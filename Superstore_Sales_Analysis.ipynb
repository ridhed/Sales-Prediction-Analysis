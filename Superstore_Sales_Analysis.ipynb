{
 "cells": [
  {
   "cell_type": "code",
   "execution_count": 1,
   "id": "e0c0c8bf",
   "metadata": {},
   "outputs": [],
   "source": [
    "#import required libraries\n",
    "import numpy as np\n",
    "import pandas as pd\n",
    "import matplotlib.pyplot as plt\n",
    "import seaborn as sns"
   ]
  },
  {
   "cell_type": "markdown",
   "id": "cc44b556",
   "metadata": {},
   "source": [
    "# Objective of Analysis"
   ]
  },
  {
   "cell_type": "markdown",
   "id": "745048fa",
   "metadata": {},
   "source": [
    "- Understand the dataset\n",
    "- Filter the dataset if not cleaned\n",
    "- Once Datatset is ready try to anwser following questions\n",
    "1. What is overall sales trend?\n",
    "2. Which are top 10 products by sales?\n",
    "3. Which are the most selling products (quantity)?\n",
    "4. Which is the most preferred shipping method ?\n",
    "5. Which are the most profitable categories and sub categories ?\n",
    "6. Which are the least profitable categories and sub categories ?\n",
    "7. Which are bottom 10 prodcts by sales ?\n",
    "8. Which are the least selling products (qauntity)?"
    "10. Find from which we got more order from ?"
    "9. In which year did we got more orders ?"
   ]
  },
  {
   "cell_type": "markdown",
   "id": "f0b996b5",
   "metadata": {},
   "source": [
    "### Step 1: Load the Dataset"
   ]
  },
  {
   "cell_type": "code",
   "execution_count": 2,
   "id": "1f26c928",
   "metadata": {},
   "outputs": [
    {
     "data": {
      "text/html": [
       "<div>\n",
       "<style scoped>\n",
       "    .dataframe tbody tr th:only-of-type {\n",
       "        vertical-align: middle;\n",
       "    }\n",
       "\n",
       "    .dataframe tbody tr th {\n",
       "        vertical-align: top;\n",
       "    }\n",
       "\n",
       "    .dataframe thead th {\n",
       "        text-align: right;\n",
       "    }\n",
       "</style>\n",
       "<table border=\"1\" class=\"dataframe\">\n",
       "  <thead>\n",
       "    <tr style=\"text-align: right;\">\n",
       "      <th></th>\n",
       "      <th>order_id</th>\n",
       "      <th>order_date</th>\n",
       "      <th>ship_date</th>\n",
       "      <th>ship_mode</th>\n",
       "      <th>customer_name</th>\n",
       "      <th>segment</th>\n",
       "      <th>state</th>\n",
       "      <th>country</th>\n",
       "      <th>market</th>\n",
       "      <th>region</th>\n",
       "      <th>...</th>\n",
       "      <th>category</th>\n",
       "      <th>sub_category</th>\n",
       "      <th>product_name</th>\n",
       "      <th>sales</th>\n",
       "      <th>quantity</th>\n",
       "      <th>discount</th>\n",
       "      <th>profit</th>\n",
       "      <th>shipping_cost</th>\n",
       "      <th>order_priority</th>\n",
       "      <th>year</th>\n",
       "    </tr>\n",
       "  </thead>\n",
       "  <tbody>\n",
       "    <tr>\n",
       "      <th>0</th>\n",
       "      <td>AG-2011-2040</td>\n",
       "      <td>2011-01-01</td>\n",
       "      <td>2011-01-06</td>\n",
       "      <td>Standard Class</td>\n",
       "      <td>Toby Braunhardt</td>\n",
       "      <td>Consumer</td>\n",
       "      <td>Constantine</td>\n",
       "      <td>Algeria</td>\n",
       "      <td>Africa</td>\n",
       "      <td>Africa</td>\n",
       "      <td>...</td>\n",
       "      <td>Office Supplies</td>\n",
       "      <td>Storage</td>\n",
       "      <td>Tenex Lockers, Blue</td>\n",
       "      <td>408.300</td>\n",
       "      <td>2.0</td>\n",
       "      <td>0.0</td>\n",
       "      <td>106.140</td>\n",
       "      <td>35.46</td>\n",
       "      <td>Medium</td>\n",
       "      <td>2011</td>\n",
       "    </tr>\n",
       "    <tr>\n",
       "      <th>1</th>\n",
       "      <td>IN-2011-47883</td>\n",
       "      <td>2011-01-01</td>\n",
       "      <td>2011-01-08</td>\n",
       "      <td>Standard Class</td>\n",
       "      <td>Joseph Holt</td>\n",
       "      <td>Consumer</td>\n",
       "      <td>New South Wales</td>\n",
       "      <td>Australia</td>\n",
       "      <td>APAC</td>\n",
       "      <td>Oceania</td>\n",
       "      <td>...</td>\n",
       "      <td>Office Supplies</td>\n",
       "      <td>Supplies</td>\n",
       "      <td>Acme Trimmer, High Speed</td>\n",
       "      <td>120.366</td>\n",
       "      <td>3.0</td>\n",
       "      <td>0.1</td>\n",
       "      <td>36.036</td>\n",
       "      <td>9.72</td>\n",
       "      <td>Medium</td>\n",
       "      <td>2011</td>\n",
       "    </tr>\n",
       "  </tbody>\n",
       "</table>\n",
       "<p>2 rows × 21 columns</p>\n",
       "</div>"
      ],
      "text/plain": [
       "        order_id order_date  ship_date       ship_mode    customer_name  \\\n",
       "0   AG-2011-2040 2011-01-01 2011-01-06  Standard Class  Toby Braunhardt   \n",
       "1  IN-2011-47883 2011-01-01 2011-01-08  Standard Class      Joseph Holt   \n",
       "\n",
       "    segment            state    country  market   region  ...  \\\n",
       "0  Consumer      Constantine    Algeria  Africa   Africa  ...   \n",
       "1  Consumer  New South Wales  Australia    APAC  Oceania  ...   \n",
       "\n",
       "          category sub_category              product_name    sales  quantity  \\\n",
       "0  Office Supplies      Storage       Tenex Lockers, Blue  408.300       2.0   \n",
       "1  Office Supplies     Supplies  Acme Trimmer, High Speed  120.366       3.0   \n",
       "\n",
       "   discount   profit  shipping_cost  order_priority  year  \n",
       "0       0.0  106.140          35.46          Medium  2011  \n",
       "1       0.1   36.036           9.72          Medium  2011  \n",
       "\n",
       "[2 rows x 21 columns]"
      ]
     },
     "execution_count": 2,
     "metadata": {},
     "output_type": "execute_result"
    }
   ],
   "source": [
    "df = pd.read_excel('superstore_sales.xlsx')\n",
    "df.head(2)"
   ]
  },
  {
   "cell_type": "code",
   "execution_count": 3,
   "id": "7ba6dacc",
   "metadata": {},
   "outputs": [
    {
     "data": {
      "text/html": [
       "<div>\n",
       "<style scoped>\n",
       "    .dataframe tbody tr th:only-of-type {\n",
       "        vertical-align: middle;\n",
       "    }\n",
       "\n",
       "    .dataframe tbody tr th {\n",
       "        vertical-align: top;\n",
       "    }\n",
       "\n",
       "    .dataframe thead th {\n",
       "        text-align: right;\n",
       "    }\n",
       "</style>\n",
       "<table border=\"1\" class=\"dataframe\">\n",
       "  <thead>\n",
       "    <tr style=\"text-align: right;\">\n",
       "      <th></th>\n",
       "      <th>order_id</th>\n",
       "      <th>order_date</th>\n",
       "      <th>ship_date</th>\n",
       "      <th>ship_mode</th>\n",
       "      <th>customer_name</th>\n",
       "      <th>segment</th>\n",
       "      <th>state</th>\n",
       "      <th>country</th>\n",
       "      <th>market</th>\n",
       "      <th>region</th>\n",
       "      <th>...</th>\n",
       "      <th>category</th>\n",
       "      <th>sub_category</th>\n",
       "      <th>product_name</th>\n",
       "      <th>sales</th>\n",
       "      <th>quantity</th>\n",
       "      <th>discount</th>\n",
       "      <th>profit</th>\n",
       "      <th>shipping_cost</th>\n",
       "      <th>order_priority</th>\n",
       "      <th>year</th>\n",
       "    </tr>\n",
       "  </thead>\n",
       "  <tbody>\n",
       "    <tr>\n",
       "      <th>51288</th>\n",
       "      <td>MX-2014-114783</td>\n",
       "      <td>2014-12-31</td>\n",
       "      <td>2015-01-06</td>\n",
       "      <td>Standard Class</td>\n",
       "      <td>Tamara Dahlen</td>\n",
       "      <td>Consumer</td>\n",
       "      <td>Chihuahua</td>\n",
       "      <td>Mexico</td>\n",
       "      <td>LATAM</td>\n",
       "      <td>North</td>\n",
       "      <td>...</td>\n",
       "      <td>Office Supplies</td>\n",
       "      <td>Labels</td>\n",
       "      <td>Hon Legal Exhibit Labels, Alphabetical</td>\n",
       "      <td>7.120</td>\n",
       "      <td>1.0</td>\n",
       "      <td>0.0</td>\n",
       "      <td>0.5600</td>\n",
       "      <td>0.199</td>\n",
       "      <td>Medium</td>\n",
       "      <td>2014</td>\n",
       "    </tr>\n",
       "    <tr>\n",
       "      <th>51289</th>\n",
       "      <td>CA-2014-156720</td>\n",
       "      <td>2014-12-31</td>\n",
       "      <td>2015-01-04</td>\n",
       "      <td>Standard Class</td>\n",
       "      <td>Jill Matthias</td>\n",
       "      <td>Consumer</td>\n",
       "      <td>Colorado</td>\n",
       "      <td>United States</td>\n",
       "      <td>US</td>\n",
       "      <td>West</td>\n",
       "      <td>...</td>\n",
       "      <td>Office Supplies</td>\n",
       "      <td>Fasteners</td>\n",
       "      <td>Bagged Rubber Bands</td>\n",
       "      <td>3.024</td>\n",
       "      <td>3.0</td>\n",
       "      <td>0.2</td>\n",
       "      <td>-0.6048</td>\n",
       "      <td>0.170</td>\n",
       "      <td>Medium</td>\n",
       "      <td>2014</td>\n",
       "    </tr>\n",
       "  </tbody>\n",
       "</table>\n",
       "<p>2 rows × 21 columns</p>\n",
       "</div>"
      ],
      "text/plain": [
       "             order_id order_date  ship_date       ship_mode  customer_name  \\\n",
       "51288  MX-2014-114783 2014-12-31 2015-01-06  Standard Class  Tamara Dahlen   \n",
       "51289  CA-2014-156720 2014-12-31 2015-01-04  Standard Class  Jill Matthias   \n",
       "\n",
       "        segment      state        country market region  ...         category  \\\n",
       "51288  Consumer  Chihuahua         Mexico  LATAM  North  ...  Office Supplies   \n",
       "51289  Consumer   Colorado  United States     US   West  ...  Office Supplies   \n",
       "\n",
       "      sub_category                            product_name  sales  quantity  \\\n",
       "51288       Labels  Hon Legal Exhibit Labels, Alphabetical  7.120       1.0   \n",
       "51289    Fasteners                     Bagged Rubber Bands  3.024       3.0   \n",
       "\n",
       "       discount  profit  shipping_cost  order_priority  year  \n",
       "51288       0.0  0.5600          0.199          Medium  2014  \n",
       "51289       0.2 -0.6048          0.170          Medium  2014  \n",
       "\n",
       "[2 rows x 21 columns]"
      ]
     },
     "execution_count": 3,
     "metadata": {},
     "output_type": "execute_result"
    }
   ],
   "source": [
    "df.tail(2)"
   ]
  },
  {
   "cell_type": "markdown",
   "id": "dd1c5684",
   "metadata": {},
   "source": [
    "### Step 2: Clean and Process the Dataset"
   ]
  },
  {
   "cell_type": "code",
   "execution_count": 4,
   "id": "364a46ac",
   "metadata": {},
   "outputs": [
    {
     "data": {
      "text/plain": [
       "(51290, 21)"
      ]
     },
     "execution_count": 4,
     "metadata": {},
     "output_type": "execute_result"
    }
   ],
   "source": [
    "# CHECK THE SHAPE OF THE DATASET\n",
    "df.shape"
   ]
  },
  {
   "cell_type": "code",
   "execution_count": 5,
   "id": "c60a9985",
   "metadata": {},
   "outputs": [
    {
     "data": {
      "text/plain": [
       "Index(['order_id', 'order_date', 'ship_date', 'ship_mode', 'customer_name',\n",
       "       'segment', 'state', 'country', 'market', 'region', 'product_id',\n",
       "       'category', 'sub_category', 'product_name', 'sales', 'quantity',\n",
       "       'discount', 'profit', 'shipping_cost', 'order_priority', 'year'],\n",
       "      dtype='object')"
      ]
     },
     "execution_count": 5,
     "metadata": {},
     "output_type": "execute_result"
    }
   ],
   "source": [
    "# UNDERSTAND ALL THE COLUMNS\n",
    "df.columns"
   ]
  },
  {
   "cell_type": "code",
   "execution_count": 6,
   "id": "b2fa30a6",
   "metadata": {},
   "outputs": [
    {
     "name": "stdout",
     "output_type": "stream",
     "text": [
      "<class 'pandas.core.frame.DataFrame'>\n",
      "RangeIndex: 51290 entries, 0 to 51289\n",
      "Data columns (total 21 columns):\n",
      " #   Column          Non-Null Count  Dtype         \n",
      "---  ------          --------------  -----         \n",
      " 0   order_id        51290 non-null  object        \n",
      " 1   order_date      51290 non-null  datetime64[ns]\n",
      " 2   ship_date       51290 non-null  datetime64[ns]\n",
      " 3   ship_mode       51290 non-null  object        \n",
      " 4   customer_name   51290 non-null  object        \n",
      " 5   segment         51290 non-null  object        \n",
      " 6   state           51290 non-null  object        \n",
      " 7   country         51290 non-null  object        \n",
      " 8   market          51290 non-null  object        \n",
      " 9   region          51290 non-null  object        \n",
      " 10  product_id      51290 non-null  object        \n",
      " 11  category        51290 non-null  object        \n",
      " 12  sub_category    51290 non-null  object        \n",
      " 13  product_name    51290 non-null  object        \n",
      " 14  sales           51290 non-null  float64       \n",
      " 15  quantity        51279 non-null  float64       \n",
      " 16  discount        51277 non-null  float64       \n",
      " 17  profit          51290 non-null  float64       \n",
      " 18  shipping_cost   51290 non-null  float64       \n",
      " 19  order_priority  51286 non-null  object        \n",
      " 20  year            51290 non-null  int64         \n",
      "dtypes: datetime64[ns](2), float64(5), int64(1), object(13)\n",
      "memory usage: 8.2+ MB\n"
     ]
    }
   ],
   "source": [
    "# CHECK THE DATASET INFO\n",
    "df.info()"
   ]
  },
  {
   "cell_type": "code",
   "execution_count": 7,
   "id": "2e0469ef",
   "metadata": {},
   "outputs": [
    {
     "data": {
      "text/plain": [
       "order_id           0\n",
       "order_date         0\n",
       "ship_date          0\n",
       "ship_mode          0\n",
       "customer_name      0\n",
       "segment            0\n",
       "state              0\n",
       "country            0\n",
       "market             0\n",
       "region             0\n",
       "product_id         0\n",
       "category           0\n",
       "sub_category       0\n",
       "product_name       0\n",
       "sales              0\n",
       "quantity          11\n",
       "discount          13\n",
       "profit             0\n",
       "shipping_cost      0\n",
       "order_priority     4\n",
       "year               0\n",
       "dtype: int64"
      ]
     },
     "execution_count": 7,
     "metadata": {},
     "output_type": "execute_result"
    }
   ],
   "source": [
    "#cheking the missing values \n",
    "df.isnull().sum()"
   ]
  },
  {
   "cell_type": "code",
   "execution_count": 8,
   "id": "5ac34c8b",
   "metadata": {},
   "outputs": [
    {
     "data": {
      "text/plain": [
       "order_id          0.000000\n",
       "order_date        0.000000\n",
       "ship_date         0.000000\n",
       "ship_mode         0.000000\n",
       "customer_name     0.000000\n",
       "segment           0.000000\n",
       "state             0.000000\n",
       "country           0.000000\n",
       "market            0.000000\n",
       "region            0.000000\n",
       "product_id        0.000000\n",
       "category          0.000000\n",
       "sub_category      0.000000\n",
       "product_name      0.000000\n",
       "sales             0.000000\n",
       "quantity          0.021447\n",
       "discount          0.025346\n",
       "profit            0.000000\n",
       "shipping_cost     0.000000\n",
       "order_priority    0.007799\n",
       "year              0.000000\n",
       "dtype: float64"
      ]
     },
     "execution_count": 8,
     "metadata": {},
     "output_type": "execute_result"
    }
   ],
   "source": [
    "# check the missing value by percentage\n",
    "df.isnull().sum()/len(df)*100"
   ]
  },
  {
   "cell_type": "code",
   "execution_count": 9,
   "id": "d6bf22d7",
   "metadata": {},
   "outputs": [
    {
     "data": {
      "text/plain": [
       "(51290, 21)"
      ]
     },
     "execution_count": 9,
     "metadata": {},
     "output_type": "execute_result"
    }
   ],
   "source": [
    "#Check the duplicate values and if you have any drop it\n",
    "df = df.drop_duplicates()\n",
    "df.shape"
   ]
  },
  {
   "cell_type": "code",
   "execution_count": 10,
   "id": "6778ba03",
   "metadata": {},
   "outputs": [
    {
     "data": {
      "text/plain": [
       "order_id           0\n",
       "order_date         0\n",
       "ship_date          0\n",
       "ship_mode          0\n",
       "customer_name      0\n",
       "segment            0\n",
       "state              0\n",
       "country            0\n",
       "market             0\n",
       "region             0\n",
       "product_id         0\n",
       "category           0\n",
       "sub_category       0\n",
       "product_name       0\n",
       "sales              0\n",
       "quantity          11\n",
       "discount          13\n",
       "profit             0\n",
       "shipping_cost      0\n",
       "order_priority     4\n",
       "year               0\n",
       "dtype: int64"
      ]
     },
     "execution_count": 10,
     "metadata": {},
     "output_type": "execute_result"
    }
   ],
   "source": [
    "# Check the null vales\n",
    "df.isnull().sum()"
   ]
  },
  {
   "cell_type": "code",
   "execution_count": 11,
   "id": "0b7d557c",
   "metadata": {},
   "outputs": [
    {
     "data": {
      "text/plain": [
       "order_id          0.000000\n",
       "order_date        0.000000\n",
       "ship_date         0.000000\n",
       "ship_mode         0.000000\n",
       "customer_name     0.000000\n",
       "segment           0.000000\n",
       "state             0.000000\n",
       "country           0.000000\n",
       "market            0.000000\n",
       "region            0.000000\n",
       "product_id        0.000000\n",
       "category          0.000000\n",
       "sub_category      0.000000\n",
       "product_name      0.000000\n",
       "sales             0.000000\n",
       "quantity          0.021447\n",
       "discount          0.025346\n",
       "profit            0.000000\n",
       "shipping_cost     0.000000\n",
       "order_priority    0.007799\n",
       "year              0.000000\n",
       "dtype: float64"
      ]
     },
     "execution_count": 11,
     "metadata": {},
     "output_type": "execute_result"
    }
   ],
   "source": [
    "# Check the null vales in percentage\n",
    "df.isnull().sum()/len(df)*100"
   ]
  },
  {
   "cell_type": "code",
   "execution_count": 12,
   "id": "800fa710",
   "metadata": {},
   "outputs": [
    {
     "data": {
      "text/plain": [
       "array([ 2.,  3.,  4.,  5.,  1.,  7., nan,  6.,  8.,  9., 10., 11., 12.,\n",
       "       14., 13.])"
      ]
     },
     "execution_count": 12,
     "metadata": {},
     "output_type": "execute_result"
    }
   ],
   "source": [
    "#Missing values imputation \n",
    "# quantity\n",
    "df.quantity.unique()\n",
    "#let us assume that here, whereever missing value is there in quantity column \n",
    "# we will consider it is 1 quantity"
   ]
  },
  {
   "cell_type": "code",
   "execution_count": 13,
   "id": "5d2d01fa",
   "metadata": {},
   "outputs": [],
   "source": [
    "df['quantity']=df['quantity'].fillna(1)"
   ]
  },
  {
   "cell_type": "code",
   "execution_count": 14,
   "id": "74bd9091",
   "metadata": {},
   "outputs": [
    {
     "data": {
      "text/plain": [
       "0"
      ]
     },
     "execution_count": 14,
     "metadata": {},
     "output_type": "execute_result"
    }
   ],
   "source": [
    "df['quantity'].isna().sum()"
   ]
  },
  {
   "cell_type": "code",
   "execution_count": 15,
   "id": "98ea6974",
   "metadata": {},
   "outputs": [
    {
     "data": {
      "text/plain": [
       "array([0.   , 0.1  ,   nan, 0.5  , 0.4  , 0.45 , 0.55 , 0.47 , 0.002,\n",
       "       0.6  , 0.2  , 0.8  , 0.17 , 0.25 , 0.7  , 0.402, 0.35 , 0.27 ,\n",
       "       0.15 , 0.37 , 0.65 , 0.3  , 0.15 , 0.07 , 0.602, 0.32 , 0.202,\n",
       "       0.57 , 0.85 , 0.45 ])"
      ]
     },
     "execution_count": 15,
     "metadata": {},
     "output_type": "execute_result"
    }
   ],
   "source": [
    "#discount\n",
    "df.discount.unique()\n",
    "#let us assume that here, whereever missing value is there in discount column \n",
    "# we will consider it is 0% discount"
   ]
  },
  {
   "cell_type": "code",
   "execution_count": 16,
   "id": "5e1c5f8d",
   "metadata": {},
   "outputs": [],
   "source": [
    "df['discount']=df['discount'].fillna(0)"
   ]
  },
  {
   "cell_type": "code",
   "execution_count": 17,
   "id": "28b47e8b",
   "metadata": {},
   "outputs": [
    {
     "data": {
      "text/plain": [
       "0"
      ]
     },
     "execution_count": 17,
     "metadata": {},
     "output_type": "execute_result"
    }
   ],
   "source": [
    "df['discount'].isna().sum()"
   ]
  },
  {
   "cell_type": "code",
   "execution_count": 18,
   "id": "ce9e6ae2",
   "metadata": {},
   "outputs": [
    {
     "data": {
      "text/plain": [
       "array(['Medium', 'High', 'Critical', nan, 'Low'], dtype=object)"
      ]
     },
     "execution_count": 18,
     "metadata": {},
     "output_type": "execute_result"
    }
   ],
   "source": [
    "#order_priority\n",
    "df.order_priority.unique()\n",
    "#let us assume that here, whereever missing value is there in order_priority column \n",
    "# we will consider it is low order_priority"
   ]
  },
  {
   "cell_type": "code",
   "execution_count": 19,
   "id": "08516f2b",
   "metadata": {},
   "outputs": [],
   "source": [
    "df['order_priority']=df['order_priority'].fillna('low')"
   ]
  },
  {
   "cell_type": "code",
   "execution_count": 20,
   "id": "0c03cd21",
   "metadata": {},
   "outputs": [
    {
     "data": {
      "text/plain": [
       "0"
      ]
     },
     "execution_count": 20,
     "metadata": {},
     "output_type": "execute_result"
    }
   ],
   "source": [
    "df['order_priority'].isna().sum()"
   ]
  },
  {
   "cell_type": "code",
   "execution_count": 21,
   "id": "cef4c408",
   "metadata": {},
   "outputs": [
    {
     "data": {
      "text/plain": [
       "order_id          0\n",
       "order_date        0\n",
       "ship_date         0\n",
       "ship_mode         0\n",
       "customer_name     0\n",
       "segment           0\n",
       "state             0\n",
       "country           0\n",
       "market            0\n",
       "region            0\n",
       "product_id        0\n",
       "category          0\n",
       "sub_category      0\n",
       "product_name      0\n",
       "sales             0\n",
       "quantity          0\n",
       "discount          0\n",
       "profit            0\n",
       "shipping_cost     0\n",
       "order_priority    0\n",
       "year              0\n",
       "dtype: int64"
      ]
     },
     "execution_count": 21,
     "metadata": {},
     "output_type": "execute_result"
    }
   ],
   "source": [
    "# Now check the dataset is cleaned or not\n",
    "df.isnull().sum()"
   ]
  },
  {
   "cell_type": "code",
   "execution_count": 22,
   "id": "f97599cb",
   "metadata": {},
   "outputs": [],
   "source": [
    "df.to_excel('superstore_sales_cleaned.xlsx')"
   ]
  },
  {
   "cell_type": "code",
   "execution_count": 23,
   "id": "3de60e26",
   "metadata": {},
   "outputs": [
    {
     "data": {
      "text/html": [
       "<div>\n",
       "<style scoped>\n",
       "    .dataframe tbody tr th:only-of-type {\n",
       "        vertical-align: middle;\n",
       "    }\n",
       "\n",
       "    .dataframe tbody tr th {\n",
       "        vertical-align: top;\n",
       "    }\n",
       "\n",
       "    .dataframe thead th {\n",
       "        text-align: right;\n",
       "    }\n",
       "</style>\n",
       "<table border=\"1\" class=\"dataframe\">\n",
       "  <thead>\n",
       "    <tr style=\"text-align: right;\">\n",
       "      <th></th>\n",
       "      <th>sales</th>\n",
       "      <th>quantity</th>\n",
       "      <th>discount</th>\n",
       "      <th>profit</th>\n",
       "      <th>shipping_cost</th>\n",
       "      <th>year</th>\n",
       "    </tr>\n",
       "  </thead>\n",
       "  <tbody>\n",
       "    <tr>\n",
       "      <th>count</th>\n",
       "      <td>51290.000000</td>\n",
       "      <td>51290.000000</td>\n",
       "      <td>51290.000000</td>\n",
       "      <td>51290.000000</td>\n",
       "      <td>51290.000000</td>\n",
       "      <td>51290.000000</td>\n",
       "    </tr>\n",
       "    <tr>\n",
       "      <th>mean</th>\n",
       "      <td>246.490581</td>\n",
       "      <td>3.476545</td>\n",
       "      <td>0.142908</td>\n",
       "      <td>28.641740</td>\n",
       "      <td>26.375818</td>\n",
       "      <td>2012.777208</td>\n",
       "    </tr>\n",
       "    <tr>\n",
       "      <th>std</th>\n",
       "      <td>487.565361</td>\n",
       "      <td>2.278766</td>\n",
       "      <td>0.212280</td>\n",
       "      <td>174.424113</td>\n",
       "      <td>57.296810</td>\n",
       "      <td>1.098931</td>\n",
       "    </tr>\n",
       "    <tr>\n",
       "      <th>min</th>\n",
       "      <td>0.444000</td>\n",
       "      <td>1.000000</td>\n",
       "      <td>0.000000</td>\n",
       "      <td>-6599.978000</td>\n",
       "      <td>0.002000</td>\n",
       "      <td>2011.000000</td>\n",
       "    </tr>\n",
       "    <tr>\n",
       "      <th>25%</th>\n",
       "      <td>30.758625</td>\n",
       "      <td>2.000000</td>\n",
       "      <td>0.000000</td>\n",
       "      <td>0.000000</td>\n",
       "      <td>2.610000</td>\n",
       "      <td>2012.000000</td>\n",
       "    </tr>\n",
       "    <tr>\n",
       "      <th>50%</th>\n",
       "      <td>85.053000</td>\n",
       "      <td>3.000000</td>\n",
       "      <td>0.000000</td>\n",
       "      <td>9.240000</td>\n",
       "      <td>7.790000</td>\n",
       "      <td>2013.000000</td>\n",
       "    </tr>\n",
       "    <tr>\n",
       "      <th>75%</th>\n",
       "      <td>251.053200</td>\n",
       "      <td>5.000000</td>\n",
       "      <td>0.200000</td>\n",
       "      <td>36.810000</td>\n",
       "      <td>24.450000</td>\n",
       "      <td>2014.000000</td>\n",
       "    </tr>\n",
       "    <tr>\n",
       "      <th>max</th>\n",
       "      <td>22638.480000</td>\n",
       "      <td>14.000000</td>\n",
       "      <td>0.850000</td>\n",
       "      <td>8399.976000</td>\n",
       "      <td>933.570000</td>\n",
       "      <td>2014.000000</td>\n",
       "    </tr>\n",
       "  </tbody>\n",
       "</table>\n",
       "</div>"
      ],
      "text/plain": [
       "              sales      quantity      discount        profit  shipping_cost  \\\n",
       "count  51290.000000  51290.000000  51290.000000  51290.000000   51290.000000   \n",
       "mean     246.490581      3.476545      0.142908     28.641740      26.375818   \n",
       "std      487.565361      2.278766      0.212280    174.424113      57.296810   \n",
       "min        0.444000      1.000000      0.000000  -6599.978000       0.002000   \n",
       "25%       30.758625      2.000000      0.000000      0.000000       2.610000   \n",
       "50%       85.053000      3.000000      0.000000      9.240000       7.790000   \n",
       "75%      251.053200      5.000000      0.200000     36.810000      24.450000   \n",
       "max    22638.480000     14.000000      0.850000   8399.976000     933.570000   \n",
       "\n",
       "               year  \n",
       "count  51290.000000  \n",
       "mean    2012.777208  \n",
       "std        1.098931  \n",
       "min     2011.000000  \n",
       "25%     2012.000000  \n",
       "50%     2013.000000  \n",
       "75%     2014.000000  \n",
       "max     2014.000000  "
      ]
     },
     "execution_count": 23,
     "metadata": {},
     "output_type": "execute_result"
    }
   ],
   "source": [
    "df.describe()"
   ]
  },
  {
   "cell_type": "markdown",
   "id": "792cf6f3",
   "metadata": {},
   "source": [
    "### 1.What is overall sales trend?"
   ]
  },
  {
   "cell_type": "code",
   "execution_count": 24,
   "id": "f29cab64",
   "metadata": {},
   "outputs": [
    {
     "data": {
      "text/plain": [
       "array([2011, 2012, 2013, 2014], dtype=int64)"
      ]
     },
     "execution_count": 24,
     "metadata": {},
     "output_type": "execute_result"
    }
   ],
   "source": [
    "df['year'].unique()"
   ]
  },
  {
   "cell_type": "code",
   "execution_count": 25,
   "id": "809dbef2",
   "metadata": {},
   "outputs": [
    {
     "data": {
      "text/plain": [
       "Timestamp('2011-01-01 00:00:00')"
      ]
     },
     "execution_count": 25,
     "metadata": {},
     "output_type": "execute_result"
    }
   ],
   "source": [
    "df.order_date.min()"
   ]
  },
  {
   "cell_type": "code",
   "execution_count": 26,
   "id": "2f8b079c",
   "metadata": {},
   "outputs": [
    {
     "data": {
      "text/plain": [
       "Timestamp('2014-12-31 00:00:00')"
      ]
     },
     "execution_count": 26,
     "metadata": {},
     "output_type": "execute_result"
    }
   ],
   "source": [
    "df.order_date.max()"
   ]
  },
  {
   "cell_type": "code",
   "execution_count": 27,
   "id": "c140fd41",
   "metadata": {},
   "outputs": [
    {
     "data": {
      "text/plain": [
       "0   2011-01-01\n",
       "1   2011-01-01\n",
       "2   2011-01-01\n",
       "3   2011-01-01\n",
       "4   2011-01-01\n",
       "Name: order_date, dtype: datetime64[ns]"
      ]
     },
     "execution_count": 27,
     "metadata": {},
     "output_type": "execute_result"
    }
   ],
   "source": [
    "df.order_date.head()"
   ]
  },
  {
   "cell_type": "code",
   "execution_count": 28,
   "id": "f0e78dcd",
   "metadata": {},
   "outputs": [],
   "source": [
    "df['month_year'] = df['order_date'].apply(lambda x:x.strftime('%Y-%m'))"
   ]
  },
  {
   "cell_type": "code",
   "execution_count": 29,
   "id": "99dff557",
   "metadata": {},
   "outputs": [
    {
     "data": {
      "text/plain": [
       "array(['2011-01', '2011-02', '2011-03', '2011-04', '2011-05', '2011-06',\n",
       "       '2011-07', '2011-08', '2011-09', '2011-10', '2011-11', '2011-12',\n",
       "       '2012-01', '2012-02', '2012-03', '2012-04', '2012-05', '2012-06',\n",
       "       '2012-07', '2012-08', '2012-09', '2012-10', '2012-11', '2012-12',\n",
       "       '2013-01', '2013-02', '2013-03', '2013-04', '2013-05', '2013-06',\n",
       "       '2013-07', '2013-08', '2013-09', '2013-10', '2013-11', '2013-12',\n",
       "       '2014-01', '2014-02', '2014-03', '2014-04', '2014-05', '2014-06',\n",
       "       '2014-07', '2014-08', '2014-09', '2014-10', '2014-11', '2014-12'],\n",
       "      dtype=object)"
      ]
     },
     "execution_count": 29,
     "metadata": {},
     "output_type": "execute_result"
    }
   ],
   "source": [
    "df.month_year.unique()"
   ]
  },
  {
   "cell_type": "code",
   "execution_count": 30,
   "id": "7d6773fd",
   "metadata": {},
   "outputs": [
    {
     "data": {
      "text/plain": [
       "Index(['order_id', 'order_date', 'ship_date', 'ship_mode', 'customer_name',\n",
       "       'segment', 'state', 'country', 'market', 'region', 'product_id',\n",
       "       'category', 'sub_category', 'product_name', 'sales', 'quantity',\n",
       "       'discount', 'profit', 'shipping_cost', 'order_priority', 'year',\n",
       "       'month_year'],\n",
       "      dtype='object')"
      ]
     },
     "execution_count": 30,
     "metadata": {},
     "output_type": "execute_result"
    }
   ],
   "source": [
    "df.columns"
   ]
  },
  {
   "cell_type": "code",
   "execution_count": 31,
   "id": "14ac597c",
   "metadata": {},
   "outputs": [
    {
     "data": {
      "text/html": [
       "<div>\n",
       "<style scoped>\n",
       "    .dataframe tbody tr th:only-of-type {\n",
       "        vertical-align: middle;\n",
       "    }\n",
       "\n",
       "    .dataframe tbody tr th {\n",
       "        vertical-align: top;\n",
       "    }\n",
       "\n",
       "    .dataframe thead th {\n",
       "        text-align: right;\n",
       "    }\n",
       "</style>\n",
       "<table border=\"1\" class=\"dataframe\">\n",
       "  <thead>\n",
       "    <tr style=\"text-align: right;\">\n",
       "      <th></th>\n",
       "      <th>month_year</th>\n",
       "      <th>sales</th>\n",
       "    </tr>\n",
       "  </thead>\n",
       "  <tbody>\n",
       "    <tr>\n",
       "      <th>0</th>\n",
       "      <td>2011-01</td>\n",
       "      <td>98898.48886</td>\n",
       "    </tr>\n",
       "    <tr>\n",
       "      <th>1</th>\n",
       "      <td>2011-02</td>\n",
       "      <td>91152.15698</td>\n",
       "    </tr>\n",
       "    <tr>\n",
       "      <th>2</th>\n",
       "      <td>2011-03</td>\n",
       "      <td>145729.36736</td>\n",
       "    </tr>\n",
       "    <tr>\n",
       "      <th>3</th>\n",
       "      <td>2011-04</td>\n",
       "      <td>116915.76418</td>\n",
       "    </tr>\n",
       "    <tr>\n",
       "      <th>4</th>\n",
       "      <td>2011-05</td>\n",
       "      <td>146747.83610</td>\n",
       "    </tr>\n",
       "    <tr>\n",
       "      <th>5</th>\n",
       "      <td>2011-06</td>\n",
       "      <td>215207.38022</td>\n",
       "    </tr>\n",
       "    <tr>\n",
       "      <th>6</th>\n",
       "      <td>2011-07</td>\n",
       "      <td>115510.41912</td>\n",
       "    </tr>\n",
       "    <tr>\n",
       "      <th>7</th>\n",
       "      <td>2011-08</td>\n",
       "      <td>207581.49122</td>\n",
       "    </tr>\n",
       "    <tr>\n",
       "      <th>8</th>\n",
       "      <td>2011-09</td>\n",
       "      <td>290214.45534</td>\n",
       "    </tr>\n",
       "    <tr>\n",
       "      <th>9</th>\n",
       "      <td>2011-10</td>\n",
       "      <td>199071.26404</td>\n",
       "    </tr>\n",
       "    <tr>\n",
       "      <th>10</th>\n",
       "      <td>2011-11</td>\n",
       "      <td>298496.53752</td>\n",
       "    </tr>\n",
       "    <tr>\n",
       "      <th>11</th>\n",
       "      <td>2011-12</td>\n",
       "      <td>333925.73460</td>\n",
       "    </tr>\n",
       "    <tr>\n",
       "      <th>12</th>\n",
       "      <td>2012-01</td>\n",
       "      <td>135780.72024</td>\n",
       "    </tr>\n",
       "    <tr>\n",
       "      <th>13</th>\n",
       "      <td>2012-02</td>\n",
       "      <td>100510.21698</td>\n",
       "    </tr>\n",
       "    <tr>\n",
       "      <th>14</th>\n",
       "      <td>2012-03</td>\n",
       "      <td>163076.77116</td>\n",
       "    </tr>\n",
       "    <tr>\n",
       "      <th>15</th>\n",
       "      <td>2012-04</td>\n",
       "      <td>161052.26952</td>\n",
       "    </tr>\n",
       "    <tr>\n",
       "      <th>16</th>\n",
       "      <td>2012-05</td>\n",
       "      <td>208364.89124</td>\n",
       "    </tr>\n",
       "    <tr>\n",
       "      <th>17</th>\n",
       "      <td>2012-06</td>\n",
       "      <td>256175.69842</td>\n",
       "    </tr>\n",
       "    <tr>\n",
       "      <th>18</th>\n",
       "      <td>2012-07</td>\n",
       "      <td>145236.78512</td>\n",
       "    </tr>\n",
       "    <tr>\n",
       "      <th>19</th>\n",
       "      <td>2012-08</td>\n",
       "      <td>303142.94238</td>\n",
       "    </tr>\n",
       "    <tr>\n",
       "      <th>20</th>\n",
       "      <td>2012-09</td>\n",
       "      <td>289389.16564</td>\n",
       "    </tr>\n",
       "    <tr>\n",
       "      <th>21</th>\n",
       "      <td>2012-10</td>\n",
       "      <td>252939.85020</td>\n",
       "    </tr>\n",
       "    <tr>\n",
       "      <th>22</th>\n",
       "      <td>2012-11</td>\n",
       "      <td>323512.41690</td>\n",
       "    </tr>\n",
       "    <tr>\n",
       "      <th>23</th>\n",
       "      <td>2012-12</td>\n",
       "      <td>338256.96660</td>\n",
       "    </tr>\n",
       "    <tr>\n",
       "      <th>24</th>\n",
       "      <td>2013-01</td>\n",
       "      <td>199185.90738</td>\n",
       "    </tr>\n",
       "    <tr>\n",
       "      <th>25</th>\n",
       "      <td>2013-02</td>\n",
       "      <td>167239.65040</td>\n",
       "    </tr>\n",
       "    <tr>\n",
       "      <th>26</th>\n",
       "      <td>2013-03</td>\n",
       "      <td>198594.03012</td>\n",
       "    </tr>\n",
       "    <tr>\n",
       "      <th>27</th>\n",
       "      <td>2013-04</td>\n",
       "      <td>177821.31684</td>\n",
       "    </tr>\n",
       "    <tr>\n",
       "      <th>28</th>\n",
       "      <td>2013-05</td>\n",
       "      <td>260498.56470</td>\n",
       "    </tr>\n",
       "    <tr>\n",
       "      <th>29</th>\n",
       "      <td>2013-06</td>\n",
       "      <td>396519.61190</td>\n",
       "    </tr>\n",
       "    <tr>\n",
       "      <th>30</th>\n",
       "      <td>2013-07</td>\n",
       "      <td>229928.95200</td>\n",
       "    </tr>\n",
       "    <tr>\n",
       "      <th>31</th>\n",
       "      <td>2013-08</td>\n",
       "      <td>326488.78936</td>\n",
       "    </tr>\n",
       "    <tr>\n",
       "      <th>32</th>\n",
       "      <td>2013-09</td>\n",
       "      <td>376619.24568</td>\n",
       "    </tr>\n",
       "    <tr>\n",
       "      <th>33</th>\n",
       "      <td>2013-10</td>\n",
       "      <td>293406.64288</td>\n",
       "    </tr>\n",
       "    <tr>\n",
       "      <th>34</th>\n",
       "      <td>2013-11</td>\n",
       "      <td>373989.36010</td>\n",
       "    </tr>\n",
       "    <tr>\n",
       "      <th>35</th>\n",
       "      <td>2013-12</td>\n",
       "      <td>405454.37802</td>\n",
       "    </tr>\n",
       "    <tr>\n",
       "      <th>36</th>\n",
       "      <td>2014-01</td>\n",
       "      <td>241268.55566</td>\n",
       "    </tr>\n",
       "    <tr>\n",
       "      <th>37</th>\n",
       "      <td>2014-02</td>\n",
       "      <td>184837.35556</td>\n",
       "    </tr>\n",
       "    <tr>\n",
       "      <th>38</th>\n",
       "      <td>2014-03</td>\n",
       "      <td>263100.77262</td>\n",
       "    </tr>\n",
       "    <tr>\n",
       "      <th>39</th>\n",
       "      <td>2014-04</td>\n",
       "      <td>242771.86130</td>\n",
       "    </tr>\n",
       "    <tr>\n",
       "      <th>40</th>\n",
       "      <td>2014-05</td>\n",
       "      <td>288401.04614</td>\n",
       "    </tr>\n",
       "    <tr>\n",
       "      <th>41</th>\n",
       "      <td>2014-06</td>\n",
       "      <td>401814.06310</td>\n",
       "    </tr>\n",
       "    <tr>\n",
       "      <th>42</th>\n",
       "      <td>2014-07</td>\n",
       "      <td>258705.68048</td>\n",
       "    </tr>\n",
       "    <tr>\n",
       "      <th>43</th>\n",
       "      <td>2014-08</td>\n",
       "      <td>456619.94236</td>\n",
       "    </tr>\n",
       "    <tr>\n",
       "      <th>44</th>\n",
       "      <td>2014-09</td>\n",
       "      <td>481157.24370</td>\n",
       "    </tr>\n",
       "    <tr>\n",
       "      <th>45</th>\n",
       "      <td>2014-10</td>\n",
       "      <td>422766.62916</td>\n",
       "    </tr>\n",
       "    <tr>\n",
       "      <th>46</th>\n",
       "      <td>2014-11</td>\n",
       "      <td>555279.02700</td>\n",
       "    </tr>\n",
       "    <tr>\n",
       "      <th>47</th>\n",
       "      <td>2014-12</td>\n",
       "      <td>503143.69348</td>\n",
       "    </tr>\n",
       "  </tbody>\n",
       "</table>\n",
       "</div>"
      ],
      "text/plain": [
       "   month_year         sales\n",
       "0     2011-01   98898.48886\n",
       "1     2011-02   91152.15698\n",
       "2     2011-03  145729.36736\n",
       "3     2011-04  116915.76418\n",
       "4     2011-05  146747.83610\n",
       "5     2011-06  215207.38022\n",
       "6     2011-07  115510.41912\n",
       "7     2011-08  207581.49122\n",
       "8     2011-09  290214.45534\n",
       "9     2011-10  199071.26404\n",
       "10    2011-11  298496.53752\n",
       "11    2011-12  333925.73460\n",
       "12    2012-01  135780.72024\n",
       "13    2012-02  100510.21698\n",
       "14    2012-03  163076.77116\n",
       "15    2012-04  161052.26952\n",
       "16    2012-05  208364.89124\n",
       "17    2012-06  256175.69842\n",
       "18    2012-07  145236.78512\n",
       "19    2012-08  303142.94238\n",
       "20    2012-09  289389.16564\n",
       "21    2012-10  252939.85020\n",
       "22    2012-11  323512.41690\n",
       "23    2012-12  338256.96660\n",
       "24    2013-01  199185.90738\n",
       "25    2013-02  167239.65040\n",
       "26    2013-03  198594.03012\n",
       "27    2013-04  177821.31684\n",
       "28    2013-05  260498.56470\n",
       "29    2013-06  396519.61190\n",
       "30    2013-07  229928.95200\n",
       "31    2013-08  326488.78936\n",
       "32    2013-09  376619.24568\n",
       "33    2013-10  293406.64288\n",
       "34    2013-11  373989.36010\n",
       "35    2013-12  405454.37802\n",
       "36    2014-01  241268.55566\n",
       "37    2014-02  184837.35556\n",
       "38    2014-03  263100.77262\n",
       "39    2014-04  242771.86130\n",
       "40    2014-05  288401.04614\n",
       "41    2014-06  401814.06310\n",
       "42    2014-07  258705.68048\n",
       "43    2014-08  456619.94236\n",
       "44    2014-09  481157.24370\n",
       "45    2014-10  422766.62916\n",
       "46    2014-11  555279.02700\n",
       "47    2014-12  503143.69348"
      ]
     },
     "execution_count": 31,
     "metadata": {},
     "output_type": "execute_result"
    }
   ],
   "source": [
    "df_sales_trends = df.groupby('month_year').sum()['sales'].reset_index()\n",
    "df_sales_trends"
   ]
  },
  {
   "cell_type": "code",
   "execution_count": 47,
   "id": "df7a52de",
   "metadata": {
    "scrolled": true
   },
   "outputs": [
    {
     "data": {
      "text/plain": [
       "<function matplotlib.pyplot.show(close=None, block=None)>"
      ]
     },
     "execution_count": 47,
     "metadata": {},
     "output_type": "execute_result"
    },
    {
     "data": {
      "image/png": "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\n",
      "text/plain": [
       "<Figure size 1152x360 with 1 Axes>"
      ]
     },
     "metadata": {
      "needs_background": "light"
     },
     "output_type": "display_data"
    }
   ],
   "source": [
    "plt.figure(figsize=(16,5))\n",
    "plt.plot(df_sales_trends.month_year,df_sales_trends.sales,c='r')\n",
    "plt.xticks(rotation='vertical')\n",
    "plt.show\n"
   ]
  },
  {
   "cell_type": "code",
   "execution_count": 33,
   "id": "16603db4",
   "metadata": {},
   "outputs": [],
   "source": [
    "#Conclusion - In first 4-5 months sales is low over the years but it gradually increases after may.\n",
    "# Overall it's seen that the company is growing."
   ]
  },
  {
   "cell_type": "markdown",
   "id": "50cc9ace",
   "metadata": {},
   "source": [
    "### 2. Which are top 10 products by sales?"
   ]
  },
  {
   "cell_type": "code",
   "execution_count": 34,
   "id": "b8995a9b",
   "metadata": {},
   "outputs": [
    {
     "data": {
      "text/plain": [
       "Index(['order_id', 'order_date', 'ship_date', 'ship_mode', 'customer_name',\n",
       "       'segment', 'state', 'country', 'market', 'region', 'product_id',\n",
       "       'category', 'sub_category', 'product_name', 'sales', 'quantity',\n",
       "       'discount', 'profit', 'shipping_cost', 'order_priority', 'year',\n",
       "       'month_year'],\n",
       "      dtype='object')"
      ]
     },
     "execution_count": 34,
     "metadata": {},
     "output_type": "execute_result"
    }
   ],
   "source": [
    "df.columns"
   ]
  },
  {
   "cell_type": "code",
   "execution_count": 35,
   "id": "7cf7f216",
   "metadata": {},
   "outputs": [
    {
     "data": {
      "text/plain": [
       "Staples                                                 227\n",
       "Cardinal Index Tab, Clear                                92\n",
       "Eldon File Cart, Single Width                            90\n",
       "Rogers File Cart, Single Width                           84\n",
       "Ibico Index Tab, Clear                                   83\n",
       "                                                       ... \n",
       "Hewlett-Packard Deskjet 5550 Printer                      1\n",
       "Cisco SPA 501G IP Phone                                   1\n",
       "Nokia Lumia 1020                                          1\n",
       "Bush Birmingham Collection Bookcase, Dark Cherry          1\n",
       "Lexmark X 9575 Professional All-in-One Color Printer      1\n",
       "Name: product_name, Length: 3788, dtype: int64"
      ]
     },
     "execution_count": 35,
     "metadata": {},
     "output_type": "execute_result"
    }
   ],
   "source": [
    "df[\"product_name\"].value_counts()"
   ]
  },
  {
   "cell_type": "code",
   "execution_count": 36,
   "id": "a2b17a5f",
   "metadata": {},
   "outputs": [],
   "source": [
    "prod_sales=pd.DataFrame(df.groupby(\"product_name\").sum()['sales'])"
   ]
  },
  {
   "cell_type": "code",
   "execution_count": 37,
   "id": "1b3d91bf",
   "metadata": {},
   "outputs": [
    {
     "data": {
      "text/html": [
       "<div>\n",
       "<style scoped>\n",
       "    .dataframe tbody tr th:only-of-type {\n",
       "        vertical-align: middle;\n",
       "    }\n",
       "\n",
       "    .dataframe tbody tr th {\n",
       "        vertical-align: top;\n",
       "    }\n",
       "\n",
       "    .dataframe thead th {\n",
       "        text-align: right;\n",
       "    }\n",
       "</style>\n",
       "<table border=\"1\" class=\"dataframe\">\n",
       "  <thead>\n",
       "    <tr style=\"text-align: right;\">\n",
       "      <th></th>\n",
       "      <th>sales</th>\n",
       "    </tr>\n",
       "    <tr>\n",
       "      <th>product_name</th>\n",
       "      <th></th>\n",
       "    </tr>\n",
       "  </thead>\n",
       "  <tbody>\n",
       "    <tr>\n",
       "      <th>\"While you Were Out\" Message Book, One Form per Page</th>\n",
       "      <td>25.228</td>\n",
       "    </tr>\n",
       "    <tr>\n",
       "      <th>#10 Gummed Flap White Envelopes, 100/Box</th>\n",
       "      <td>41.300</td>\n",
       "    </tr>\n",
       "    <tr>\n",
       "      <th>#10 Self-Seal White Envelopes</th>\n",
       "      <td>108.682</td>\n",
       "    </tr>\n",
       "    <tr>\n",
       "      <th>#10 White Business Envelopes,4 1/8 x 9 1/2</th>\n",
       "      <td>488.904</td>\n",
       "    </tr>\n",
       "    <tr>\n",
       "      <th>#10- 4 1/8\" x 9 1/2\" Recycled Envelopes</th>\n",
       "      <td>286.672</td>\n",
       "    </tr>\n",
       "    <tr>\n",
       "      <th>...</th>\n",
       "      <td>...</td>\n",
       "    </tr>\n",
       "    <tr>\n",
       "      <th>iKross Bluetooth Portable Keyboard + Cell Phone Stand Holder + Brush for Apple iPhone 5S 5C 5, 4S 4</th>\n",
       "      <td>477.660</td>\n",
       "    </tr>\n",
       "    <tr>\n",
       "      <th>iOttie HLCRIO102 Car Mount</th>\n",
       "      <td>215.892</td>\n",
       "    </tr>\n",
       "    <tr>\n",
       "      <th>iOttie XL Car Mount</th>\n",
       "      <td>223.888</td>\n",
       "    </tr>\n",
       "    <tr>\n",
       "      <th>invisibleSHIELD by ZAGG Smudge-Free Screen Protector</th>\n",
       "      <td>442.554</td>\n",
       "    </tr>\n",
       "    <tr>\n",
       "      <th>netTALK DUO VoIP Telephone Service</th>\n",
       "      <td>1112.788</td>\n",
       "    </tr>\n",
       "  </tbody>\n",
       "</table>\n",
       "<p>3788 rows × 1 columns</p>\n",
       "</div>"
      ],
      "text/plain": [
       "                                                       sales\n",
       "product_name                                                \n",
       "\"While you Were Out\" Message Book, One Form per...    25.228\n",
       "#10 Gummed Flap White Envelopes, 100/Box              41.300\n",
       "#10 Self-Seal White Envelopes                        108.682\n",
       "#10 White Business Envelopes,4 1/8 x 9 1/2           488.904\n",
       "#10- 4 1/8\" x 9 1/2\" Recycled Envelopes              286.672\n",
       "...                                                      ...\n",
       "iKross Bluetooth Portable Keyboard + Cell Phone...   477.660\n",
       "iOttie HLCRIO102 Car Mount                           215.892\n",
       "iOttie XL Car Mount                                  223.888\n",
       "invisibleSHIELD by ZAGG Smudge-Free Screen Prot...   442.554\n",
       "netTALK DUO VoIP Telephone Service                  1112.788\n",
       "\n",
       "[3788 rows x 1 columns]"
      ]
     },
     "execution_count": 37,
     "metadata": {},
     "output_type": "execute_result"
    }
   ],
   "source": [
    "prod_sales"
   ]
  },
  {
   "cell_type": "code",
   "execution_count": 38,
   "id": "284e884f",
   "metadata": {},
   "outputs": [],
   "source": [
    "prod_sales.sort_values(by=['sales'],ascending=False,inplace=True)"
   ]
  },
  {
   "cell_type": "code",
   "execution_count": 39,
   "id": "758b1ac8",
   "metadata": {},
   "outputs": [
    {
     "data": {
      "text/html": [
       "<div>\n",
       "<style scoped>\n",
       "    .dataframe tbody tr th:only-of-type {\n",
       "        vertical-align: middle;\n",
       "    }\n",
       "\n",
       "    .dataframe tbody tr th {\n",
       "        vertical-align: top;\n",
       "    }\n",
       "\n",
       "    .dataframe thead th {\n",
       "        text-align: right;\n",
       "    }\n",
       "</style>\n",
       "<table border=\"1\" class=\"dataframe\">\n",
       "  <thead>\n",
       "    <tr style=\"text-align: right;\">\n",
       "      <th></th>\n",
       "      <th>sales</th>\n",
       "    </tr>\n",
       "    <tr>\n",
       "      <th>product_name</th>\n",
       "      <th></th>\n",
       "    </tr>\n",
       "  </thead>\n",
       "  <tbody>\n",
       "    <tr>\n",
       "      <th>Apple Smart Phone, Full Size</th>\n",
       "      <td>86935.7786</td>\n",
       "    </tr>\n",
       "    <tr>\n",
       "      <th>Cisco Smart Phone, Full Size</th>\n",
       "      <td>76441.5306</td>\n",
       "    </tr>\n",
       "    <tr>\n",
       "      <th>Motorola Smart Phone, Full Size</th>\n",
       "      <td>73156.3030</td>\n",
       "    </tr>\n",
       "    <tr>\n",
       "      <th>Nokia Smart Phone, Full Size</th>\n",
       "      <td>71904.5555</td>\n",
       "    </tr>\n",
       "    <tr>\n",
       "      <th>Canon imageCLASS 2200 Advanced Copier</th>\n",
       "      <td>61599.8240</td>\n",
       "    </tr>\n",
       "    <tr>\n",
       "      <th>Hon Executive Leather Armchair, Adjustable</th>\n",
       "      <td>58193.4841</td>\n",
       "    </tr>\n",
       "    <tr>\n",
       "      <th>Office Star Executive Leather Armchair, Adjustable</th>\n",
       "      <td>50661.6840</td>\n",
       "    </tr>\n",
       "    <tr>\n",
       "      <th>Harbour Creations Executive Leather Armchair, Adjustable</th>\n",
       "      <td>50121.5160</td>\n",
       "    </tr>\n",
       "    <tr>\n",
       "      <th>Samsung Smart Phone, Cordless</th>\n",
       "      <td>48653.4600</td>\n",
       "    </tr>\n",
       "    <tr>\n",
       "      <th>Nokia Smart Phone, with Caller ID</th>\n",
       "      <td>47877.7857</td>\n",
       "    </tr>\n",
       "  </tbody>\n",
       "</table>\n",
       "</div>"
      ],
      "text/plain": [
       "                                                         sales\n",
       "product_name                                                  \n",
       "Apple Smart Phone, Full Size                        86935.7786\n",
       "Cisco Smart Phone, Full Size                        76441.5306\n",
       "Motorola Smart Phone, Full Size                     73156.3030\n",
       "Nokia Smart Phone, Full Size                        71904.5555\n",
       "Canon imageCLASS 2200 Advanced Copier               61599.8240\n",
       "Hon Executive Leather Armchair, Adjustable          58193.4841\n",
       "Office Star Executive Leather Armchair, Adjustable  50661.6840\n",
       "Harbour Creations Executive Leather Armchair, A...  50121.5160\n",
       "Samsung Smart Phone, Cordless                       48653.4600\n",
       "Nokia Smart Phone, with Caller ID                   47877.7857"
      ]
     },
     "execution_count": 39,
     "metadata": {},
     "output_type": "execute_result"
    }
   ],
   "source": [
    "prod_sales.head(10)"
   ]
  },
  {
   "cell_type": "markdown",
   "id": "4f73ed1e",
   "metadata": {},
   "source": [
    "Conclusion:-\n",
    "These are the top 10 products by sales\n",
    "- Apple Smart Phone, \n",
    "- Cisco Smart Phone, \n",
    "- Motorola Smart Phone,\n",
    "- Nokia Smart Phone,\n",
    "- Canon imageCLASS 2200 Advanced Copier\n",
    "- Hon Executive Leather Armchair, \n",
    "- Office Star Executive Leather Armchair,\n",
    "- Harbour Creations Executive Leather Armchair,\n",
    "- Samsung Smart Phone, Cordless\n",
    "- Nokia Smart Phone, with Caller IDAvery Hi-Liter Pen Style Six-Color Fluorescent Set."
   ]
  },
  {
   "cell_type": "markdown",
   "id": "9bed4ad1",
   "metadata": {},
   "source": [
    "### 3. Which are the most selling products (quantity)?"
   ]
  },
  {
   "cell_type": "code",
   "execution_count": 40,
   "id": "803f6f13",
   "metadata": {},
   "outputs": [
    {
     "data": {
      "text/html": [
       "<div>\n",
       "<style scoped>\n",
       "    .dataframe tbody tr th:only-of-type {\n",
       "        vertical-align: middle;\n",
       "    }\n",
       "\n",
       "    .dataframe tbody tr th {\n",
       "        vertical-align: top;\n",
       "    }\n",
       "\n",
       "    .dataframe thead th {\n",
       "        text-align: right;\n",
       "    }\n",
       "</style>\n",
       "<table border=\"1\" class=\"dataframe\">\n",
       "  <thead>\n",
       "    <tr style=\"text-align: right;\">\n",
       "      <th></th>\n",
       "      <th>order_id</th>\n",
       "      <th>order_date</th>\n",
       "      <th>ship_date</th>\n",
       "      <th>ship_mode</th>\n",
       "      <th>customer_name</th>\n",
       "      <th>segment</th>\n",
       "      <th>state</th>\n",
       "      <th>country</th>\n",
       "      <th>market</th>\n",
       "      <th>region</th>\n",
       "      <th>...</th>\n",
       "      <th>sub_category</th>\n",
       "      <th>product_name</th>\n",
       "      <th>sales</th>\n",
       "      <th>quantity</th>\n",
       "      <th>discount</th>\n",
       "      <th>profit</th>\n",
       "      <th>shipping_cost</th>\n",
       "      <th>order_priority</th>\n",
       "      <th>year</th>\n",
       "      <th>month_year</th>\n",
       "    </tr>\n",
       "  </thead>\n",
       "  <tbody>\n",
       "    <tr>\n",
       "      <th>0</th>\n",
       "      <td>AG-2011-2040</td>\n",
       "      <td>2011-01-01</td>\n",
       "      <td>2011-01-06</td>\n",
       "      <td>Standard Class</td>\n",
       "      <td>Toby Braunhardt</td>\n",
       "      <td>Consumer</td>\n",
       "      <td>Constantine</td>\n",
       "      <td>Algeria</td>\n",
       "      <td>Africa</td>\n",
       "      <td>Africa</td>\n",
       "      <td>...</td>\n",
       "      <td>Storage</td>\n",
       "      <td>Tenex Lockers, Blue</td>\n",
       "      <td>408.300</td>\n",
       "      <td>2.0</td>\n",
       "      <td>0.0</td>\n",
       "      <td>106.140</td>\n",
       "      <td>35.46</td>\n",
       "      <td>Medium</td>\n",
       "      <td>2011</td>\n",
       "      <td>2011-01</td>\n",
       "    </tr>\n",
       "    <tr>\n",
       "      <th>1</th>\n",
       "      <td>IN-2011-47883</td>\n",
       "      <td>2011-01-01</td>\n",
       "      <td>2011-01-08</td>\n",
       "      <td>Standard Class</td>\n",
       "      <td>Joseph Holt</td>\n",
       "      <td>Consumer</td>\n",
       "      <td>New South Wales</td>\n",
       "      <td>Australia</td>\n",
       "      <td>APAC</td>\n",
       "      <td>Oceania</td>\n",
       "      <td>...</td>\n",
       "      <td>Supplies</td>\n",
       "      <td>Acme Trimmer, High Speed</td>\n",
       "      <td>120.366</td>\n",
       "      <td>3.0</td>\n",
       "      <td>0.1</td>\n",
       "      <td>36.036</td>\n",
       "      <td>9.72</td>\n",
       "      <td>Medium</td>\n",
       "      <td>2011</td>\n",
       "      <td>2011-01</td>\n",
       "    </tr>\n",
       "  </tbody>\n",
       "</table>\n",
       "<p>2 rows × 22 columns</p>\n",
       "</div>"
      ],
      "text/plain": [
       "        order_id order_date  ship_date       ship_mode    customer_name  \\\n",
       "0   AG-2011-2040 2011-01-01 2011-01-06  Standard Class  Toby Braunhardt   \n",
       "1  IN-2011-47883 2011-01-01 2011-01-08  Standard Class      Joseph Holt   \n",
       "\n",
       "    segment            state    country  market   region  ... sub_category  \\\n",
       "0  Consumer      Constantine    Algeria  Africa   Africa  ...      Storage   \n",
       "1  Consumer  New South Wales  Australia    APAC  Oceania  ...     Supplies   \n",
       "\n",
       "               product_name    sales quantity  discount   profit  \\\n",
       "0       Tenex Lockers, Blue  408.300      2.0       0.0  106.140   \n",
       "1  Acme Trimmer, High Speed  120.366      3.0       0.1   36.036   \n",
       "\n",
       "   shipping_cost  order_priority  year month_year  \n",
       "0          35.46          Medium  2011    2011-01  \n",
       "1           9.72          Medium  2011    2011-01  \n",
       "\n",
       "[2 rows x 22 columns]"
      ]
     },
     "execution_count": 40,
     "metadata": {},
     "output_type": "execute_result"
    }
   ],
   "source": [
    "df.head(2)"
   ]
  },
  {
   "cell_type": "code",
   "execution_count": 41,
   "id": "8ff38a44",
   "metadata": {},
   "outputs": [
    {
     "data": {
      "text/html": [
       "<div>\n",
       "<style scoped>\n",
       "    .dataframe tbody tr th:only-of-type {\n",
       "        vertical-align: middle;\n",
       "    }\n",
       "\n",
       "    .dataframe tbody tr th {\n",
       "        vertical-align: top;\n",
       "    }\n",
       "\n",
       "    .dataframe thead th {\n",
       "        text-align: right;\n",
       "    }\n",
       "</style>\n",
       "<table border=\"1\" class=\"dataframe\">\n",
       "  <thead>\n",
       "    <tr style=\"text-align: right;\">\n",
       "      <th></th>\n",
       "      <th>sales</th>\n",
       "      <th>quantity</th>\n",
       "      <th>discount</th>\n",
       "      <th>profit</th>\n",
       "      <th>shipping_cost</th>\n",
       "      <th>year</th>\n",
       "    </tr>\n",
       "    <tr>\n",
       "      <th>product_name</th>\n",
       "      <th></th>\n",
       "      <th></th>\n",
       "      <th></th>\n",
       "      <th></th>\n",
       "      <th></th>\n",
       "      <th></th>\n",
       "    </tr>\n",
       "  </thead>\n",
       "  <tbody>\n",
       "    <tr>\n",
       "      <th>\"While you Were Out\" Message Book, One Form per Page</th>\n",
       "      <td>25.228</td>\n",
       "      <td>8.0</td>\n",
       "      <td>0.4</td>\n",
       "      <td>10.3880</td>\n",
       "      <td>3.10</td>\n",
       "      <td>6042</td>\n",
       "    </tr>\n",
       "    <tr>\n",
       "      <th>#10 Gummed Flap White Envelopes, 100/Box</th>\n",
       "      <td>41.300</td>\n",
       "      <td>11.0</td>\n",
       "      <td>0.4</td>\n",
       "      <td>16.7678</td>\n",
       "      <td>2.09</td>\n",
       "      <td>8052</td>\n",
       "    </tr>\n",
       "    <tr>\n",
       "      <th>#10 Self-Seal White Envelopes</th>\n",
       "      <td>108.682</td>\n",
       "      <td>10.0</td>\n",
       "      <td>0.2</td>\n",
       "      <td>52.1230</td>\n",
       "      <td>11.43</td>\n",
       "      <td>8053</td>\n",
       "    </tr>\n",
       "    <tr>\n",
       "      <th>#10 White Business Envelopes,4 1/8 x 9 1/2</th>\n",
       "      <td>488.904</td>\n",
       "      <td>32.0</td>\n",
       "      <td>0.4</td>\n",
       "      <td>223.1408</td>\n",
       "      <td>53.03</td>\n",
       "      <td>14088</td>\n",
       "    </tr>\n",
       "    <tr>\n",
       "      <th>#10- 4 1/8\" x 9 1/2\" Recycled Envelopes</th>\n",
       "      <td>286.672</td>\n",
       "      <td>37.0</td>\n",
       "      <td>0.8</td>\n",
       "      <td>115.2806</td>\n",
       "      <td>34.95</td>\n",
       "      <td>20124</td>\n",
       "    </tr>\n",
       "    <tr>\n",
       "      <th>...</th>\n",
       "      <td>...</td>\n",
       "      <td>...</td>\n",
       "      <td>...</td>\n",
       "      <td>...</td>\n",
       "      <td>...</td>\n",
       "      <td>...</td>\n",
       "    </tr>\n",
       "    <tr>\n",
       "      <th>iKross Bluetooth Portable Keyboard + Cell Phone Stand Holder + Brush for Apple iPhone 5S 5C 5, 4S 4</th>\n",
       "      <td>477.660</td>\n",
       "      <td>24.0</td>\n",
       "      <td>0.4</td>\n",
       "      <td>115.6440</td>\n",
       "      <td>28.12</td>\n",
       "      <td>10064</td>\n",
       "    </tr>\n",
       "    <tr>\n",
       "      <th>iOttie HLCRIO102 Car Mount</th>\n",
       "      <td>215.892</td>\n",
       "      <td>12.0</td>\n",
       "      <td>0.8</td>\n",
       "      <td>-11.9940</td>\n",
       "      <td>51.19</td>\n",
       "      <td>10062</td>\n",
       "    </tr>\n",
       "    <tr>\n",
       "      <th>iOttie XL Car Mount</th>\n",
       "      <td>223.888</td>\n",
       "      <td>14.0</td>\n",
       "      <td>0.4</td>\n",
       "      <td>-50.3748</td>\n",
       "      <td>18.64</td>\n",
       "      <td>4028</td>\n",
       "    </tr>\n",
       "    <tr>\n",
       "      <th>invisibleSHIELD by ZAGG Smudge-Free Screen Protector</th>\n",
       "      <td>442.554</td>\n",
       "      <td>29.0</td>\n",
       "      <td>1.2</td>\n",
       "      <td>171.2648</td>\n",
       "      <td>40.78</td>\n",
       "      <td>14091</td>\n",
       "    </tr>\n",
       "    <tr>\n",
       "      <th>netTALK DUO VoIP Telephone Service</th>\n",
       "      <td>1112.788</td>\n",
       "      <td>26.0</td>\n",
       "      <td>1.2</td>\n",
       "      <td>430.4180</td>\n",
       "      <td>98.09</td>\n",
       "      <td>14084</td>\n",
       "    </tr>\n",
       "  </tbody>\n",
       "</table>\n",
       "<p>3788 rows × 6 columns</p>\n",
       "</div>"
      ],
      "text/plain": [
       "                                                       sales  quantity  \\\n",
       "product_name                                                             \n",
       "\"While you Were Out\" Message Book, One Form per...    25.228       8.0   \n",
       "#10 Gummed Flap White Envelopes, 100/Box              41.300      11.0   \n",
       "#10 Self-Seal White Envelopes                        108.682      10.0   \n",
       "#10 White Business Envelopes,4 1/8 x 9 1/2           488.904      32.0   \n",
       "#10- 4 1/8\" x 9 1/2\" Recycled Envelopes              286.672      37.0   \n",
       "...                                                      ...       ...   \n",
       "iKross Bluetooth Portable Keyboard + Cell Phone...   477.660      24.0   \n",
       "iOttie HLCRIO102 Car Mount                           215.892      12.0   \n",
       "iOttie XL Car Mount                                  223.888      14.0   \n",
       "invisibleSHIELD by ZAGG Smudge-Free Screen Prot...   442.554      29.0   \n",
       "netTALK DUO VoIP Telephone Service                  1112.788      26.0   \n",
       "\n",
       "                                                    discount    profit  \\\n",
       "product_name                                                             \n",
       "\"While you Were Out\" Message Book, One Form per...       0.4   10.3880   \n",
       "#10 Gummed Flap White Envelopes, 100/Box                 0.4   16.7678   \n",
       "#10 Self-Seal White Envelopes                            0.2   52.1230   \n",
       "#10 White Business Envelopes,4 1/8 x 9 1/2               0.4  223.1408   \n",
       "#10- 4 1/8\" x 9 1/2\" Recycled Envelopes                  0.8  115.2806   \n",
       "...                                                      ...       ...   \n",
       "iKross Bluetooth Portable Keyboard + Cell Phone...       0.4  115.6440   \n",
       "iOttie HLCRIO102 Car Mount                               0.8  -11.9940   \n",
       "iOttie XL Car Mount                                      0.4  -50.3748   \n",
       "invisibleSHIELD by ZAGG Smudge-Free Screen Prot...       1.2  171.2648   \n",
       "netTALK DUO VoIP Telephone Service                       1.2  430.4180   \n",
       "\n",
       "                                                    shipping_cost   year  \n",
       "product_name                                                              \n",
       "\"While you Were Out\" Message Book, One Form per...           3.10   6042  \n",
       "#10 Gummed Flap White Envelopes, 100/Box                     2.09   8052  \n",
       "#10 Self-Seal White Envelopes                               11.43   8053  \n",
       "#10 White Business Envelopes,4 1/8 x 9 1/2                  53.03  14088  \n",
       "#10- 4 1/8\" x 9 1/2\" Recycled Envelopes                     34.95  20124  \n",
       "...                                                           ...    ...  \n",
       "iKross Bluetooth Portable Keyboard + Cell Phone...          28.12  10064  \n",
       "iOttie HLCRIO102 Car Mount                                  51.19  10062  \n",
       "iOttie XL Car Mount                                         18.64   4028  \n",
       "invisibleSHIELD by ZAGG Smudge-Free Screen Prot...          40.78  14091  \n",
       "netTALK DUO VoIP Telephone Service                          98.09  14084  \n",
       "\n",
       "[3788 rows x 6 columns]"
      ]
     },
     "execution_count": 41,
     "metadata": {},
     "output_type": "execute_result"
    }
   ],
   "source": [
    "df.groupby('product_name').sum()"
   ]
  },
  {
   "cell_type": "code",
   "execution_count": 42,
   "id": "300317aa",
   "metadata": {},
   "outputs": [],
   "source": [
    "df_top_sales=pd.DataFrame(df.groupby(\"product_name\").sum()['quantity'])"
   ]
  },
  {
   "cell_type": "code",
   "execution_count": 43,
   "id": "66d27c23",
   "metadata": {},
   "outputs": [
    {
     "data": {
      "text/html": [
       "<div>\n",
       "<style scoped>\n",
       "    .dataframe tbody tr th:only-of-type {\n",
       "        vertical-align: middle;\n",
       "    }\n",
       "\n",
       "    .dataframe tbody tr th {\n",
       "        vertical-align: top;\n",
       "    }\n",
       "\n",
       "    .dataframe thead th {\n",
       "        text-align: right;\n",
       "    }\n",
       "</style>\n",
       "<table border=\"1\" class=\"dataframe\">\n",
       "  <thead>\n",
       "    <tr style=\"text-align: right;\">\n",
       "      <th></th>\n",
       "      <th>quantity</th>\n",
       "    </tr>\n",
       "    <tr>\n",
       "      <th>product_name</th>\n",
       "      <th></th>\n",
       "    </tr>\n",
       "  </thead>\n",
       "  <tbody>\n",
       "    <tr>\n",
       "      <th>\"While you Were Out\" Message Book, One Form per Page</th>\n",
       "      <td>8.0</td>\n",
       "    </tr>\n",
       "    <tr>\n",
       "      <th>#10 Gummed Flap White Envelopes, 100/Box</th>\n",
       "      <td>11.0</td>\n",
       "    </tr>\n",
       "    <tr>\n",
       "      <th>#10 Self-Seal White Envelopes</th>\n",
       "      <td>10.0</td>\n",
       "    </tr>\n",
       "    <tr>\n",
       "      <th>#10 White Business Envelopes,4 1/8 x 9 1/2</th>\n",
       "      <td>32.0</td>\n",
       "    </tr>\n",
       "    <tr>\n",
       "      <th>#10- 4 1/8\" x 9 1/2\" Recycled Envelopes</th>\n",
       "      <td>37.0</td>\n",
       "    </tr>\n",
       "  </tbody>\n",
       "</table>\n",
       "</div>"
      ],
      "text/plain": [
       "                                                    quantity\n",
       "product_name                                                \n",
       "\"While you Were Out\" Message Book, One Form per...       8.0\n",
       "#10 Gummed Flap White Envelopes, 100/Box                11.0\n",
       "#10 Self-Seal White Envelopes                           10.0\n",
       "#10 White Business Envelopes,4 1/8 x 9 1/2              32.0\n",
       "#10- 4 1/8\" x 9 1/2\" Recycled Envelopes                 37.0"
      ]
     },
     "execution_count": 43,
     "metadata": {},
     "output_type": "execute_result"
    }
   ],
   "source": [
    "df_top_sales.head()"
   ]
  },
  {
   "cell_type": "code",
   "execution_count": 44,
   "id": "3356f9b5",
   "metadata": {},
   "outputs": [],
   "source": [
    "df_top_sales.sort_values(by=['quantity'],ascending=False,inplace=True)"
   ]
  },
  {
   "cell_type": "code",
   "execution_count": 45,
   "id": "7d067e0c",
   "metadata": {},
   "outputs": [
    {
     "data": {
      "text/html": [
       "<div>\n",
       "<style scoped>\n",
       "    .dataframe tbody tr th:only-of-type {\n",
       "        vertical-align: middle;\n",
       "    }\n",
       "\n",
       "    .dataframe tbody tr th {\n",
       "        vertical-align: top;\n",
       "    }\n",
       "\n",
       "    .dataframe thead th {\n",
       "        text-align: right;\n",
       "    }\n",
       "</style>\n",
       "<table border=\"1\" class=\"dataframe\">\n",
       "  <thead>\n",
       "    <tr style=\"text-align: right;\">\n",
       "      <th></th>\n",
       "      <th>quantity</th>\n",
       "    </tr>\n",
       "    <tr>\n",
       "      <th>product_name</th>\n",
       "      <th></th>\n",
       "    </tr>\n",
       "  </thead>\n",
       "  <tbody>\n",
       "    <tr>\n",
       "      <th>Staples</th>\n",
       "      <td>876.0</td>\n",
       "    </tr>\n",
       "    <tr>\n",
       "      <th>Cardinal Index Tab, Clear</th>\n",
       "      <td>337.0</td>\n",
       "    </tr>\n",
       "    <tr>\n",
       "      <th>Eldon File Cart, Single Width</th>\n",
       "      <td>321.0</td>\n",
       "    </tr>\n",
       "    <tr>\n",
       "      <th>Rogers File Cart, Single Width</th>\n",
       "      <td>262.0</td>\n",
       "    </tr>\n",
       "    <tr>\n",
       "      <th>Sanford Pencil Sharpener, Water Color</th>\n",
       "      <td>259.0</td>\n",
       "    </tr>\n",
       "    <tr>\n",
       "      <th>Stockwell Paper Clips, Assorted Sizes</th>\n",
       "      <td>253.0</td>\n",
       "    </tr>\n",
       "    <tr>\n",
       "      <th>Avery Index Tab, Clear</th>\n",
       "      <td>252.0</td>\n",
       "    </tr>\n",
       "    <tr>\n",
       "      <th>Ibico Index Tab, Clear</th>\n",
       "      <td>251.0</td>\n",
       "    </tr>\n",
       "    <tr>\n",
       "      <th>Smead File Cart, Single Width</th>\n",
       "      <td>250.0</td>\n",
       "    </tr>\n",
       "    <tr>\n",
       "      <th>Stanley Pencil Sharpener, Water Color</th>\n",
       "      <td>242.0</td>\n",
       "    </tr>\n",
       "  </tbody>\n",
       "</table>\n",
       "</div>"
      ],
      "text/plain": [
       "                                       quantity\n",
       "product_name                                   \n",
       "Staples                                   876.0\n",
       "Cardinal Index Tab, Clear                 337.0\n",
       "Eldon File Cart, Single Width             321.0\n",
       "Rogers File Cart, Single Width            262.0\n",
       "Sanford Pencil Sharpener, Water Color     259.0\n",
       "Stockwell Paper Clips, Assorted Sizes     253.0\n",
       "Avery Index Tab, Clear                    252.0\n",
       "Ibico Index Tab, Clear                    251.0\n",
       "Smead File Cart, Single Width             250.0\n",
       "Stanley Pencil Sharpener, Water Color     242.0"
      ]
     },
     "execution_count": 45,
     "metadata": {},
     "output_type": "execute_result"
    }
   ],
   "source": [
    "df_top_sales.head(10)"
   ]
  },
  {
   "cell_type": "markdown",
   "id": "a1b04402",
   "metadata": {},
   "source": [
    "These are the most selling products (quantity):-\n",
    "- Staples\t\n",
    "- Cardinal Index Tab, \n",
    "- Eldon File Cart,\n",
    "- Rogers File Cart, \n",
    "- Sanford Pencil Sharpener, \n",
    "- Stockwell Paper Clips, \n",
    "- Avery Index Tab, \n",
    "- Ibico Index Tab, \n",
    "- Smead File Cart,\n",
    "- Stanley Pencil Sharpener,"
   ]
  },
  {
   "cell_type": "markdown",
   "id": "7504ef89",
   "metadata": {},
   "source": [
    "### 4. Which is the most preferred shipping method ?"
   ]
  },
  {
   "cell_type": "code",
   "execution_count": 48,
   "id": "519489eb",
   "metadata": {},
   "outputs": [
    {
     "data": {
      "text/plain": [
       "Index(['order_id', 'order_date', 'ship_date', 'ship_mode', 'customer_name',\n",
       "       'segment', 'state', 'country', 'market', 'region', 'product_id',\n",
       "       'category', 'sub_category', 'product_name', 'sales', 'quantity',\n",
       "       'discount', 'profit', 'shipping_cost', 'order_priority', 'year',\n",
       "       'month_year'],\n",
       "      dtype='object')"
      ]
     },
     "execution_count": 48,
     "metadata": {},
     "output_type": "execute_result"
    }
   ],
   "source": [
    "df.columns"
   ]
  },
  {
   "cell_type": "code",
   "execution_count": 50,
   "id": "032fa652",
   "metadata": {},
   "outputs": [
    {
     "data": {
      "text/plain": [
       "array(['Standard Class', 'Second Class', 'Same Day', 'First Class'],\n",
       "      dtype=object)"
      ]
     },
     "execution_count": 50,
     "metadata": {},
     "output_type": "execute_result"
    }
   ],
   "source": [
    "df.ship_mode.unique()"
   ]
  },
  {
   "cell_type": "code",
   "execution_count": 51,
   "id": "aee76087",
   "metadata": {},
   "outputs": [
    {
     "data": {
      "text/plain": [
       "<AxesSubplot:xlabel='ship_mode', ylabel='count'>"
      ]
     },
     "execution_count": 51,
     "metadata": {},
     "output_type": "execute_result"
    },
    {
     "data": {
      "image/png": "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\n",
      "text/plain": [
       "<Figure size 432x288 with 1 Axes>"
      ]
     },
     "metadata": {
      "needs_background": "light"
     },
     "output_type": "display_data"
    }
   ],
   "source": [
    "sns.countplot(x=\"ship_mode\",data=df)"
   ]
  },
  {
   "cell_type": "code",
   "execution_count": 52,
   "id": "781cd908",
   "metadata": {},
   "outputs": [],
   "source": [
    "##From the analysis, we can say that consumers are prefferiing standard class shipping."
   ]
  },
  {
   "cell_type": "markdown",
   "id": "76f8f634",
   "metadata": {},
   "source": [
    "### 5. Which are the most profitable categories and sub categories ?"
   ]
  },
  {
   "cell_type": "code",
   "execution_count": 55,
   "id": "29445170",
   "metadata": {},
   "outputs": [
    {
     "data": {
      "text/plain": [
       "Index(['order_id', 'order_date', 'ship_date', 'ship_mode', 'customer_name',\n",
       "       'segment', 'state', 'country', 'market', 'region', 'product_id',\n",
       "       'category', 'sub_category', 'product_name', 'sales', 'quantity',\n",
       "       'discount', 'profit', 'shipping_cost', 'order_priority', 'year',\n",
       "       'month_year'],\n",
       "      dtype='object')"
      ]
     },
     "execution_count": 55,
     "metadata": {},
     "output_type": "execute_result"
    }
   ],
   "source": [
    "df.columns"
   ]
  },
  {
   "cell_type": "code",
   "execution_count": 57,
   "id": "e3ccbdd0",
   "metadata": {},
   "outputs": [],
   "source": [
    "df_category_profit = pd.DataFrame(df.groupby(['category','sub_category']).sum()['profit'])"
   ]
  },
  {
   "cell_type": "code",
   "execution_count": 58,
   "id": "3a38f504",
   "metadata": {},
   "outputs": [
    {
     "data": {
      "text/html": [
       "<div>\n",
       "<style scoped>\n",
       "    .dataframe tbody tr th:only-of-type {\n",
       "        vertical-align: middle;\n",
       "    }\n",
       "\n",
       "    .dataframe tbody tr th {\n",
       "        vertical-align: top;\n",
       "    }\n",
       "\n",
       "    .dataframe thead th {\n",
       "        text-align: right;\n",
       "    }\n",
       "</style>\n",
       "<table border=\"1\" class=\"dataframe\">\n",
       "  <thead>\n",
       "    <tr style=\"text-align: right;\">\n",
       "      <th></th>\n",
       "      <th></th>\n",
       "      <th>profit</th>\n",
       "    </tr>\n",
       "    <tr>\n",
       "      <th>category</th>\n",
       "      <th>sub_category</th>\n",
       "      <th></th>\n",
       "    </tr>\n",
       "  </thead>\n",
       "  <tbody>\n",
       "    <tr>\n",
       "      <th rowspan=\"4\" valign=\"top\">Furniture</th>\n",
       "      <th>Bookcases</th>\n",
       "      <td>161924.41950</td>\n",
       "    </tr>\n",
       "    <tr>\n",
       "      <th>Chairs</th>\n",
       "      <td>141973.79750</td>\n",
       "    </tr>\n",
       "    <tr>\n",
       "      <th>Furnishings</th>\n",
       "      <td>46967.42550</td>\n",
       "    </tr>\n",
       "    <tr>\n",
       "      <th>Tables</th>\n",
       "      <td>-64083.38870</td>\n",
       "    </tr>\n",
       "    <tr>\n",
       "      <th rowspan=\"9\" valign=\"top\">Office Supplies</th>\n",
       "      <th>Appliances</th>\n",
       "      <td>141680.58940</td>\n",
       "    </tr>\n",
       "    <tr>\n",
       "      <th>Art</th>\n",
       "      <td>57953.91090</td>\n",
       "    </tr>\n",
       "    <tr>\n",
       "      <th>Binders</th>\n",
       "      <td>72449.84600</td>\n",
       "    </tr>\n",
       "    <tr>\n",
       "      <th>Envelopes</th>\n",
       "      <td>29601.11630</td>\n",
       "    </tr>\n",
       "    <tr>\n",
       "      <th>Fasteners</th>\n",
       "      <td>11525.42410</td>\n",
       "    </tr>\n",
       "    <tr>\n",
       "      <th>Labels</th>\n",
       "      <td>15010.51200</td>\n",
       "    </tr>\n",
       "    <tr>\n",
       "      <th>Paper</th>\n",
       "      <td>59207.68270</td>\n",
       "    </tr>\n",
       "    <tr>\n",
       "      <th>Storage</th>\n",
       "      <td>108461.48980</td>\n",
       "    </tr>\n",
       "    <tr>\n",
       "      <th>Supplies</th>\n",
       "      <td>22583.26310</td>\n",
       "    </tr>\n",
       "    <tr>\n",
       "      <th rowspan=\"4\" valign=\"top\">Technology</th>\n",
       "      <th>Accessories</th>\n",
       "      <td>129626.30620</td>\n",
       "    </tr>\n",
       "    <tr>\n",
       "      <th>Copiers</th>\n",
       "      <td>258567.54818</td>\n",
       "    </tr>\n",
       "    <tr>\n",
       "      <th>Machines</th>\n",
       "      <td>58867.87300</td>\n",
       "    </tr>\n",
       "    <tr>\n",
       "      <th>Phones</th>\n",
       "      <td>216717.00580</td>\n",
       "    </tr>\n",
       "  </tbody>\n",
       "</table>\n",
       "</div>"
      ],
      "text/plain": [
       "                                    profit\n",
       "category        sub_category              \n",
       "Furniture       Bookcases     161924.41950\n",
       "                Chairs        141973.79750\n",
       "                Furnishings    46967.42550\n",
       "                Tables        -64083.38870\n",
       "Office Supplies Appliances    141680.58940\n",
       "                Art            57953.91090\n",
       "                Binders        72449.84600\n",
       "                Envelopes      29601.11630\n",
       "                Fasteners      11525.42410\n",
       "                Labels         15010.51200\n",
       "                Paper          59207.68270\n",
       "                Storage       108461.48980\n",
       "                Supplies       22583.26310\n",
       "Technology      Accessories   129626.30620\n",
       "                Copiers       258567.54818\n",
       "                Machines       58867.87300\n",
       "                Phones        216717.00580"
      ]
     },
     "execution_count": 58,
     "metadata": {},
     "output_type": "execute_result"
    }
   ],
   "source": [
    "df_category_profit"
   ]
  },
  {
   "cell_type": "code",
   "execution_count": 59,
   "id": "cdcef0d4",
   "metadata": {},
   "outputs": [
    {
     "data": {
      "text/html": [
       "<div>\n",
       "<style scoped>\n",
       "    .dataframe tbody tr th:only-of-type {\n",
       "        vertical-align: middle;\n",
       "    }\n",
       "\n",
       "    .dataframe tbody tr th {\n",
       "        vertical-align: top;\n",
       "    }\n",
       "\n",
       "    .dataframe thead th {\n",
       "        text-align: right;\n",
       "    }\n",
       "</style>\n",
       "<table border=\"1\" class=\"dataframe\">\n",
       "  <thead>\n",
       "    <tr style=\"text-align: right;\">\n",
       "      <th></th>\n",
       "      <th></th>\n",
       "      <th>profit</th>\n",
       "    </tr>\n",
       "    <tr>\n",
       "      <th>category</th>\n",
       "      <th>sub_category</th>\n",
       "      <th></th>\n",
       "    </tr>\n",
       "  </thead>\n",
       "  <tbody>\n",
       "    <tr>\n",
       "      <th rowspan=\"2\" valign=\"top\">Technology</th>\n",
       "      <th>Copiers</th>\n",
       "      <td>258567.54818</td>\n",
       "    </tr>\n",
       "    <tr>\n",
       "      <th>Phones</th>\n",
       "      <td>216717.00580</td>\n",
       "    </tr>\n",
       "    <tr>\n",
       "      <th rowspan=\"2\" valign=\"top\">Furniture</th>\n",
       "      <th>Bookcases</th>\n",
       "      <td>161924.41950</td>\n",
       "    </tr>\n",
       "    <tr>\n",
       "      <th>Chairs</th>\n",
       "      <td>141973.79750</td>\n",
       "    </tr>\n",
       "    <tr>\n",
       "      <th>Office Supplies</th>\n",
       "      <th>Appliances</th>\n",
       "      <td>141680.58940</td>\n",
       "    </tr>\n",
       "    <tr>\n",
       "      <th>Technology</th>\n",
       "      <th>Accessories</th>\n",
       "      <td>129626.30620</td>\n",
       "    </tr>\n",
       "    <tr>\n",
       "      <th rowspan=\"3\" valign=\"top\">Office Supplies</th>\n",
       "      <th>Storage</th>\n",
       "      <td>108461.48980</td>\n",
       "    </tr>\n",
       "    <tr>\n",
       "      <th>Binders</th>\n",
       "      <td>72449.84600</td>\n",
       "    </tr>\n",
       "    <tr>\n",
       "      <th>Paper</th>\n",
       "      <td>59207.68270</td>\n",
       "    </tr>\n",
       "    <tr>\n",
       "      <th>Technology</th>\n",
       "      <th>Machines</th>\n",
       "      <td>58867.87300</td>\n",
       "    </tr>\n",
       "    <tr>\n",
       "      <th>Office Supplies</th>\n",
       "      <th>Art</th>\n",
       "      <td>57953.91090</td>\n",
       "    </tr>\n",
       "    <tr>\n",
       "      <th>Furniture</th>\n",
       "      <th>Furnishings</th>\n",
       "      <td>46967.42550</td>\n",
       "    </tr>\n",
       "    <tr>\n",
       "      <th rowspan=\"4\" valign=\"top\">Office Supplies</th>\n",
       "      <th>Envelopes</th>\n",
       "      <td>29601.11630</td>\n",
       "    </tr>\n",
       "    <tr>\n",
       "      <th>Supplies</th>\n",
       "      <td>22583.26310</td>\n",
       "    </tr>\n",
       "    <tr>\n",
       "      <th>Labels</th>\n",
       "      <td>15010.51200</td>\n",
       "    </tr>\n",
       "    <tr>\n",
       "      <th>Fasteners</th>\n",
       "      <td>11525.42410</td>\n",
       "    </tr>\n",
       "    <tr>\n",
       "      <th>Furniture</th>\n",
       "      <th>Tables</th>\n",
       "      <td>-64083.38870</td>\n",
       "    </tr>\n",
       "  </tbody>\n",
       "</table>\n",
       "</div>"
      ],
      "text/plain": [
       "                                    profit\n",
       "category        sub_category              \n",
       "Technology      Copiers       258567.54818\n",
       "                Phones        216717.00580\n",
       "Furniture       Bookcases     161924.41950\n",
       "                Chairs        141973.79750\n",
       "Office Supplies Appliances    141680.58940\n",
       "Technology      Accessories   129626.30620\n",
       "Office Supplies Storage       108461.48980\n",
       "                Binders        72449.84600\n",
       "                Paper          59207.68270\n",
       "Technology      Machines       58867.87300\n",
       "Office Supplies Art            57953.91090\n",
       "Furniture       Furnishings    46967.42550\n",
       "Office Supplies Envelopes      29601.11630\n",
       "                Supplies       22583.26310\n",
       "                Labels         15010.51200\n",
       "                Fasteners      11525.42410\n",
       "Furniture       Tables        -64083.38870"
      ]
     },
     "execution_count": 59,
     "metadata": {},
     "output_type": "execute_result"
    }
   ],
   "source": [
    "df_category_profit.sort_values(by=\"profit\",ascending = False )"
   ]
  },
  {
   "cell_type": "markdown",
   "id": "cb7d3182",
   "metadata": {},
   "source": [
    "So the catogary and sub-category having more profit is :-\n",
    "- category: Technology\t       \n",
    "- sub_category: Copiers\t     \n",
    "- PROFIT:-258567.54818\t\t     "
   ]
  },
  {
   "cell_type": "markdown",
   "id": "291f5a1f",
   "metadata": {},
   "source": [
    "### 6. Which are the least profitable categories and sub categories ?"
   ]
  },
  {
   "cell_type": "code",
   "execution_count": 60,
   "id": "499fdb58",
   "metadata": {},
   "outputs": [
    {
     "data": {
      "text/html": [
       "<div>\n",
       "<style scoped>\n",
       "    .dataframe tbody tr th:only-of-type {\n",
       "        vertical-align: middle;\n",
       "    }\n",
       "\n",
       "    .dataframe tbody tr th {\n",
       "        vertical-align: top;\n",
       "    }\n",
       "\n",
       "    .dataframe thead th {\n",
       "        text-align: right;\n",
       "    }\n",
       "</style>\n",
       "<table border=\"1\" class=\"dataframe\">\n",
       "  <thead>\n",
       "    <tr style=\"text-align: right;\">\n",
       "      <th></th>\n",
       "      <th></th>\n",
       "      <th>profit</th>\n",
       "    </tr>\n",
       "    <tr>\n",
       "      <th>category</th>\n",
       "      <th>sub_category</th>\n",
       "      <th></th>\n",
       "    </tr>\n",
       "  </thead>\n",
       "  <tbody>\n",
       "    <tr>\n",
       "      <th>Furniture</th>\n",
       "      <th>Tables</th>\n",
       "      <td>-64083.38870</td>\n",
       "    </tr>\n",
       "    <tr>\n",
       "      <th rowspan=\"4\" valign=\"top\">Office Supplies</th>\n",
       "      <th>Fasteners</th>\n",
       "      <td>11525.42410</td>\n",
       "    </tr>\n",
       "    <tr>\n",
       "      <th>Labels</th>\n",
       "      <td>15010.51200</td>\n",
       "    </tr>\n",
       "    <tr>\n",
       "      <th>Supplies</th>\n",
       "      <td>22583.26310</td>\n",
       "    </tr>\n",
       "    <tr>\n",
       "      <th>Envelopes</th>\n",
       "      <td>29601.11630</td>\n",
       "    </tr>\n",
       "    <tr>\n",
       "      <th>Furniture</th>\n",
       "      <th>Furnishings</th>\n",
       "      <td>46967.42550</td>\n",
       "    </tr>\n",
       "    <tr>\n",
       "      <th>Office Supplies</th>\n",
       "      <th>Art</th>\n",
       "      <td>57953.91090</td>\n",
       "    </tr>\n",
       "    <tr>\n",
       "      <th>Technology</th>\n",
       "      <th>Machines</th>\n",
       "      <td>58867.87300</td>\n",
       "    </tr>\n",
       "    <tr>\n",
       "      <th rowspan=\"3\" valign=\"top\">Office Supplies</th>\n",
       "      <th>Paper</th>\n",
       "      <td>59207.68270</td>\n",
       "    </tr>\n",
       "    <tr>\n",
       "      <th>Binders</th>\n",
       "      <td>72449.84600</td>\n",
       "    </tr>\n",
       "    <tr>\n",
       "      <th>Storage</th>\n",
       "      <td>108461.48980</td>\n",
       "    </tr>\n",
       "    <tr>\n",
       "      <th>Technology</th>\n",
       "      <th>Accessories</th>\n",
       "      <td>129626.30620</td>\n",
       "    </tr>\n",
       "    <tr>\n",
       "      <th>Office Supplies</th>\n",
       "      <th>Appliances</th>\n",
       "      <td>141680.58940</td>\n",
       "    </tr>\n",
       "    <tr>\n",
       "      <th rowspan=\"2\" valign=\"top\">Furniture</th>\n",
       "      <th>Chairs</th>\n",
       "      <td>141973.79750</td>\n",
       "    </tr>\n",
       "    <tr>\n",
       "      <th>Bookcases</th>\n",
       "      <td>161924.41950</td>\n",
       "    </tr>\n",
       "    <tr>\n",
       "      <th rowspan=\"2\" valign=\"top\">Technology</th>\n",
       "      <th>Phones</th>\n",
       "      <td>216717.00580</td>\n",
       "    </tr>\n",
       "    <tr>\n",
       "      <th>Copiers</th>\n",
       "      <td>258567.54818</td>\n",
       "    </tr>\n",
       "  </tbody>\n",
       "</table>\n",
       "</div>"
      ],
      "text/plain": [
       "                                    profit\n",
       "category        sub_category              \n",
       "Furniture       Tables        -64083.38870\n",
       "Office Supplies Fasteners      11525.42410\n",
       "                Labels         15010.51200\n",
       "                Supplies       22583.26310\n",
       "                Envelopes      29601.11630\n",
       "Furniture       Furnishings    46967.42550\n",
       "Office Supplies Art            57953.91090\n",
       "Technology      Machines       58867.87300\n",
       "Office Supplies Paper          59207.68270\n",
       "                Binders        72449.84600\n",
       "                Storage       108461.48980\n",
       "Technology      Accessories   129626.30620\n",
       "Office Supplies Appliances    141680.58940\n",
       "Furniture       Chairs        141973.79750\n",
       "                Bookcases     161924.41950\n",
       "Technology      Phones        216717.00580\n",
       "                Copiers       258567.54818"
      ]
     },
     "execution_count": 60,
     "metadata": {},
     "output_type": "execute_result"
    }
   ],
   "source": [
    "df_category_profit.sort_values(by=\"profit\",ascending = True)"
   ]
  },
  {
   "cell_type": "markdown",
   "id": "6db2ab96",
   "metadata": {},
   "source": [
    "So the catogary and sub-category having less profit is :-\n",
    "- category: Furniture\t       \n",
    "- sub_category: Tables\t     \n",
    "- PROFIT:-64083.38870"
   ]
  },
  {
   "cell_type": "markdown",
   "id": "f6fcde9d",
   "metadata": {},
   "source": [
    "### 7. Which are bottom 10 prodcts by sales ?"
   ]
  },
  {
   "cell_type": "code",
   "execution_count": 61,
   "id": "d2df916f",
   "metadata": {},
   "outputs": [
    {
     "data": {
      "text/html": [
       "<div>\n",
       "<style scoped>\n",
       "    .dataframe tbody tr th:only-of-type {\n",
       "        vertical-align: middle;\n",
       "    }\n",
       "\n",
       "    .dataframe tbody tr th {\n",
       "        vertical-align: top;\n",
       "    }\n",
       "\n",
       "    .dataframe thead th {\n",
       "        text-align: right;\n",
       "    }\n",
       "</style>\n",
       "<table border=\"1\" class=\"dataframe\">\n",
       "  <thead>\n",
       "    <tr style=\"text-align: right;\">\n",
       "      <th></th>\n",
       "      <th>sales</th>\n",
       "    </tr>\n",
       "    <tr>\n",
       "      <th>product_name</th>\n",
       "      <th></th>\n",
       "    </tr>\n",
       "  </thead>\n",
       "  <tbody>\n",
       "    <tr>\n",
       "      <th>Newell 308</th>\n",
       "      <td>8.400</td>\n",
       "    </tr>\n",
       "    <tr>\n",
       "      <th>Stockwell Gold Paper Clips</th>\n",
       "      <td>8.096</td>\n",
       "    </tr>\n",
       "    <tr>\n",
       "      <th>4009 Highlighters</th>\n",
       "      <td>8.040</td>\n",
       "    </tr>\n",
       "    <tr>\n",
       "      <th>Xerox 1989</th>\n",
       "      <td>7.968</td>\n",
       "    </tr>\n",
       "    <tr>\n",
       "      <th>Avery Hi-Liter Comfort Grip Fluorescent Highlighter, Yellow Ink</th>\n",
       "      <td>7.800</td>\n",
       "    </tr>\n",
       "    <tr>\n",
       "      <th>Avery Hi-Liter Pen Style Six-Color Fluorescent Set</th>\n",
       "      <td>7.700</td>\n",
       "    </tr>\n",
       "    <tr>\n",
       "      <th>Grip Seal Envelopes</th>\n",
       "      <td>7.072</td>\n",
       "    </tr>\n",
       "    <tr>\n",
       "      <th>Xerox 20</th>\n",
       "      <td>6.480</td>\n",
       "    </tr>\n",
       "    <tr>\n",
       "      <th>Avery 5</th>\n",
       "      <td>5.760</td>\n",
       "    </tr>\n",
       "    <tr>\n",
       "      <th>Eureka Disposable Bags for Sanitaire Vibra Groomer I Upright Vac</th>\n",
       "      <td>1.624</td>\n",
       "    </tr>\n",
       "  </tbody>\n",
       "</table>\n",
       "</div>"
      ],
      "text/plain": [
       "                                                    sales\n",
       "product_name                                             \n",
       "Newell 308                                          8.400\n",
       "Stockwell Gold Paper Clips                          8.096\n",
       "4009 Highlighters                                   8.040\n",
       "Xerox 1989                                          7.968\n",
       "Avery Hi-Liter Comfort Grip Fluorescent Highlig...  7.800\n",
       "Avery Hi-Liter Pen Style Six-Color Fluorescent Set  7.700\n",
       "Grip Seal Envelopes                                 7.072\n",
       "Xerox 20                                            6.480\n",
       "Avery 5                                             5.760\n",
       "Eureka Disposable Bags for Sanitaire Vibra Groo...  1.624"
      ]
     },
     "execution_count": 61,
     "metadata": {},
     "output_type": "execute_result"
    }
   ],
   "source": [
    "prod_sales.tail(10)"
   ]
  },
  {
   "cell_type": "markdown",
   "id": "cb2d83e4",
   "metadata": {},
   "source": [
    "### 8. Which are the least selling products (qauntity)?"
   ]
  },
  {
   "cell_type": "code",
   "execution_count": 63,
   "id": "dca61fab",
   "metadata": {},
   "outputs": [
    {
     "data": {
      "text/html": [
       "<div>\n",
       "<style scoped>\n",
       "    .dataframe tbody tr th:only-of-type {\n",
       "        vertical-align: middle;\n",
       "    }\n",
       "\n",
       "    .dataframe tbody tr th {\n",
       "        vertical-align: top;\n",
       "    }\n",
       "\n",
       "    .dataframe thead th {\n",
       "        text-align: right;\n",
       "    }\n",
       "</style>\n",
       "<table border=\"1\" class=\"dataframe\">\n",
       "  <thead>\n",
       "    <tr style=\"text-align: right;\">\n",
       "      <th></th>\n",
       "      <th>quantity</th>\n",
       "    </tr>\n",
       "    <tr>\n",
       "      <th>product_name</th>\n",
       "      <th></th>\n",
       "    </tr>\n",
       "  </thead>\n",
       "  <tbody>\n",
       "    <tr>\n",
       "      <th>Avery 5</th>\n",
       "      <td>2.0</td>\n",
       "    </tr>\n",
       "    <tr>\n",
       "      <th>NeatDesk Desktop Scanner &amp; Digital Filing System</th>\n",
       "      <td>2.0</td>\n",
       "    </tr>\n",
       "    <tr>\n",
       "      <th>Hewlett-Packard Deskjet F4180 All-in-One Color Ink-jet - Printer / copier / scanner</th>\n",
       "      <td>2.0</td>\n",
       "    </tr>\n",
       "    <tr>\n",
       "      <th>Ultra Commercial Grade Dual Valve Door Closer</th>\n",
       "      <td>2.0</td>\n",
       "    </tr>\n",
       "    <tr>\n",
       "      <th>Chromcraft Training Table, Adjustable Height</th>\n",
       "      <td>1.0</td>\n",
       "    </tr>\n",
       "    <tr>\n",
       "      <th>Penpower WorldCard Pro Card Scanner</th>\n",
       "      <td>1.0</td>\n",
       "    </tr>\n",
       "    <tr>\n",
       "      <th>Bush Saratoga Collection 5-Shelf Bookcase, Hanover Cherry, *Special Order</th>\n",
       "      <td>1.0</td>\n",
       "    </tr>\n",
       "    <tr>\n",
       "      <th>Boston 1900 Electric Pencil Sharpener</th>\n",
       "      <td>1.0</td>\n",
       "    </tr>\n",
       "    <tr>\n",
       "      <th>Xerox 20</th>\n",
       "      <td>1.0</td>\n",
       "    </tr>\n",
       "    <tr>\n",
       "      <th>Global Enterprise Series Seating Low-Back Swivel/Tilt Chairs</th>\n",
       "      <td>1.0</td>\n",
       "    </tr>\n",
       "  </tbody>\n",
       "</table>\n",
       "</div>"
      ],
      "text/plain": [
       "                                                    quantity\n",
       "product_name                                                \n",
       "Avery 5                                                  2.0\n",
       "NeatDesk Desktop Scanner & Digital Filing System         2.0\n",
       "Hewlett-Packard Deskjet F4180 All-in-One Color ...       2.0\n",
       "Ultra Commercial Grade Dual Valve Door Closer            2.0\n",
       "Chromcraft Training Table, Adjustable Height             1.0\n",
       "Penpower WorldCard Pro Card Scanner                      1.0\n",
       "Bush Saratoga Collection 5-Shelf Bookcase, Hano...       1.0\n",
       "Boston 1900 Electric Pencil Sharpener                    1.0\n",
       "Xerox 20                                                 1.0\n",
       "Global Enterprise Series Seating Low-Back Swive...       1.0"
      ]
     },
     "execution_count": 63,
     "metadata": {},
     "output_type": "execute_result"
    }
   ],
   "source": [
    "df_top_sales.tail(10)"
   ]
  },
  {
   "cell_type": "markdown",
   "id": "62d183d9",
   "metadata": {},
   "source": [
    "### 9. In which year did we got more orders ?"
   ]
  },
  {
   "cell_type": "code",
   "execution_count": 53,
   "id": "3093cb46",
   "metadata": {},
   "outputs": [
    {
     "data": {
      "text/plain": [
       "<AxesSubplot:xlabel='year', ylabel='count'>"
      ]
     },
     "execution_count": 53,
     "metadata": {},
     "output_type": "execute_result"
    },
    {
     "data": {
      "image/png": "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\n",
      "text/plain": [
       "<Figure size 432x288 with 1 Axes>"
      ]
     },
     "metadata": {
      "needs_background": "light"
     },
     "output_type": "display_data"
    }
   ],
   "source": [
    "sns.countplot(x=\"year\",data=df)"
   ]
  },
  {
   "cell_type": "code",
   "execution_count": 54,
   "id": "0cf96358",
   "metadata": {},
   "outputs": [],
   "source": [
    "# So we cany say that we have more oders in 2014"
   ]
  },
  {
   "cell_type": "markdown",
   "id": "b0b1c171",
   "metadata": {},
   "source": [
    "### 10. Find from which we got more order from ?"
   ]
  },
  {
   "cell_type": "code",
   "execution_count": 66,
   "id": "990f18b0",
   "metadata": {},
   "outputs": [
    {
     "data": {
      "text/plain": [
       "Index(['order_id', 'order_date', 'ship_date', 'ship_mode', 'customer_name',\n",
       "       'segment', 'state', 'country', 'market', 'region', 'product_id',\n",
       "       'category', 'sub_category', 'product_name', 'sales', 'quantity',\n",
       "       'discount', 'profit', 'shipping_cost', 'order_priority', 'year',\n",
       "       'month_year'],\n",
       "      dtype='object')"
      ]
     },
     "execution_count": 66,
     "metadata": {},
     "output_type": "execute_result"
    }
   ],
   "source": [
    "df.columns"
   ]
  },
  {
   "cell_type": "code",
   "execution_count": 72,
   "id": "3d0ec2e5",
   "metadata": {},
   "outputs": [
    {
     "data": {
      "image/png": "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\n",
      "text/plain": [
       "<Figure size 4032x1800 with 1 Axes>"
      ]
     },
     "metadata": {
      "needs_background": "light"
     },
     "output_type": "display_data"
    }
   ],
   "source": [
    "plt.figure(figsize=(56,25))\n",
    "sns.countplot(x=\"country\",data=df)\n",
    "plt.xticks(rotation='vertical')\n",
    "plt.show()"
   ]
  },
  {
   "cell_type": "code",
   "execution_count": null,
   "id": "494b7e25",
   "metadata": {},
   "outputs": [],
   "source": []
  }
 ],
 "metadata": {
  "kernelspec": {
   "display_name": "Python 3",
   "language": "python",
   "name": "python3"
  },
  "language_info": {
   "codemirror_mode": {
    "name": "ipython",
    "version": 3
   },
   "file_extension": ".py",
   "mimetype": "text/x-python",
   "name": "python",
   "nbconvert_exporter": "python",
   "pygments_lexer": "ipython3",
   "version": "3.8.8"
  }
 },
 "nbformat": 4,
 "nbformat_minor": 5
}
